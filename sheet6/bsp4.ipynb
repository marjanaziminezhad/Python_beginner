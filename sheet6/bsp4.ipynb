{
 "cells": [
  {
   "cell_type": "code",
   "execution_count": 1,
   "metadata": {},
   "outputs": [
    {
     "name": "stdout",
     "output_type": "stream",
     "text": [
      "{'Ala': 'A', 'Cys': 'C', 'Asp': 'D', 'Glu': 'E', 'Phe': 'F', 'Gly': 'G', 'His': 'H', 'Ile': 'I', 'Lys': 'K', 'Leu': 'L', 'Met': 'M', 'Asn': 'N', 'Pro': 'P', 'Gln': 'Q', 'Arg': 'R', 'Ser': 'S', 'Thr': 'T', 'Val': 'V', 'Trp': 'W', 'Tyr': 'Y'}\n",
      "A = Single-letter code for Ala\n",
      "Ala -> A\n",
      "D = Single-letter code for Asp\n",
      "Asp -> D\n",
      "N = Single-letter code for Asn\n",
      "Asn -> N\n",
      "R = Single-letter code for Arg\n",
      "Arg -> R\n"
     ]
    }
   ],
   "source": [
    "import Bio.Data.IUPACData\n",
    "#help(Bio.Data.IUPACData)\n",
    "#    --> protein_letters_1to3 = {'A': 'Ala', 'C': 'Cys', 'D': 'Asp', 'E': 'Glu'...\n",
    "#print(Bio.Data.IUPACData.protein_letters_3to1)\n",
    "#    --> {'Ala': 'A', 'Cys': 'C', 'Asp': 'D', 'Glu': 'E', 'Phe': 'F', 'Gly': 'G', 'His': 'H', 'Ile': 'I', 'Lys': 'K', 'Leu': 'L', 'Met': 'M', 'Asn': 'N', 'Pro': 'P', 'Gln': 'Q', 'Arg': 'R', 'Ser': 'S', 'Thr': 'T', 'Val': 'V', 'Trp': 'W', 'Tyr': 'Y'}\n",
    "AA = Bio.Data.IUPACData.protein_letters_3to1\n",
    "print(AA)\n",
    "\n",
    "for key, value in AA.items():\n",
    "    if key.startswith('A'):\n",
    "        print(f\"{value} = Single-letter code for {key}\")\n",
    "        print(f\"{key} -> {value}\")\n"
   ]
  }
 ],
 "metadata": {
  "kernelspec": {
   "display_name": "Python 3.10.6 (conda)",
   "language": "python",
   "name": "python3"
  },
  "language_info": {
   "codemirror_mode": {
    "name": "ipython",
    "version": 3
   },
   "file_extension": ".py",
   "mimetype": "text/x-python",
   "name": "python",
   "nbconvert_exporter": "python",
   "pygments_lexer": "ipython3",
   "version": "3.10.6"
  },
  "orig_nbformat": 4,
  "vscode": {
   "interpreter": {
    "hash": "f139eb95dc7458f532b463c4b0877e2c71664b376e1cbbde639cfe15fd546385"
   }
  }
 },
 "nbformat": 4,
 "nbformat_minor": 2
}
