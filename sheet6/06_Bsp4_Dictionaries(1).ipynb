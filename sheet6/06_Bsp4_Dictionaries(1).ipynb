{
 "cells": [
  {
   "cell_type": "markdown",
   "metadata": {},
   "source": [
    "# 4 A dictionary maps keys to values\n",
    "\n",
    "A useful Python type is the dictionary. It consists of (key, value) pairs. Like a real-world dictionary, it maps keys to values (therefore it is also sometimes called \"map\"). Unlike lists, which are sequences (ordered collections) and therefore use a numeric index to identify items, the dictionary is an unordered collection and uses keys to identify items (values). Each value is unambiguously identified by a unique key. If a key is not in the dictionary, a KeyError exception is raised (comparable to an IndexError exception for lists). The basic usage of dictionaries is shown here:\n",
    "    - \"Python Dictionaries || Python Tutorial || Learn Python Programming\" by Socratica, 2016\n",
    "    - \"Python Tutorial for Beginners 5: Dictionaries - Working with Key-Value Pairs\" by Corey Schafer, 2017\n",
    "    - Python tutorial\n",
    "\n",
    "Keys (=Inputs) can be any immutable type; strings and numbers can always be keys; tuples can be used as keys if the contain only string, number, or tuples; if tuples contain any mutable object either directly or indirectly, it cannot be used as a key\n",
    "\n",
    "    1. What happens if a key is absent from a dictionary, and how can you deal with this case?\n",
    "        - Key Error\n",
    "        - use \"in\" operator to check if a key is in the dictionary: if (e.g.) 'location' in post2: print(post2['location]) else. print(\"no locationvalue\")\n",
    "        - try and retrieve the value, but handle the possibility of a KeyError\n",
    "            - try: print(post2['location']); if dictionary does not have a 'location' key, it will raise a KeyError\n",
    "            - we handle this case by creating an \"except\" block. Type \"except\" and the possible errors you would like to handle: except KeyError: print(\"no location\")\n",
    "        - use methods: dir(post2); help(post2.get); loc=post2.get('location', None) print(loc)\n",
    "        - iterate over dictionary:\n",
    "            - for key in post.keys(): value=post[key] print(key, \"=\", value)\n",
    "            - for key, value in post.items(): print(key, \"=\", value)\n",
    "\n",
    "    \n",
    "    2. To which list-related exception is the KeyError exception comparable? In other words: Which exception is raised if you try to access a non-existing list item?\n",
    "        - comparable to IndexError for lists\n",
    "        - IndexError: occurs when trying to access an idex item in a list that is out of range\n",
    "        - NOTE!! list index begins at position 0 --> item no. 4 is actually position 3 --> easy to fix error\n",
    "    \n",
    "\n",
    "    3. Write a function that prints the single-letter code of all amino acids that start with the letter \"A\". You can use the dictionaries provided by the Bio.Data.IUPACData module. (You may need to install Biopython using conda install -c conda-forge biopython, se biopython.org)"
   ]
  },
  {
   "cell_type": "code",
   "execution_count": 25,
   "metadata": {},
   "outputs": [
    {
     "name": "stdout",
     "output_type": "stream",
     "text": [
      "{'Ala': 'A', 'Cys': 'C', 'Asp': 'D', 'Glu': 'E', 'Phe': 'F', 'Gly': 'G', 'His': 'H', 'Ile': 'I', 'Lys': 'K', 'Leu': 'L', 'Met': 'M', 'Asn': 'N', 'Pro': 'P', 'Gln': 'Q', 'Arg': 'R', 'Ser': 'S', 'Thr': 'T', 'Val': 'V', 'Trp': 'W', 'Tyr': 'Y'}\n",
      "A = Single-letter code for Ala\n",
      "Ala -> A\n",
      "D = Single-letter code for Asp\n",
      "Asp -> D\n",
      "N = Single-letter code for Asn\n",
      "Asn -> N\n",
      "R = Single-letter code for Arg\n",
      "Arg -> R\n"
     ]
    }
   ],
   "source": [
    "import Bio.Data.IUPACData\n",
    "#help(Bio.Data.IUPACData)\n",
    "#    --> protein_letters_1to3 = {'A': 'Ala', 'C': 'Cys', 'D': 'Asp', 'E': 'Glu'...\n",
    "#print(Bio.Data.IUPACData.protein_letters_3to1)\n",
    "#    --> {'Ala': 'A', 'Cys': 'C', 'Asp': 'D', 'Glu': 'E', 'Phe': 'F', 'Gly': 'G', 'His': 'H', 'Ile': 'I', 'Lys': 'K', 'Leu': 'L', 'Met': 'M', 'Asn': 'N', 'Pro': 'P', 'Gln': 'Q', 'Arg': 'R', 'Ser': 'S', 'Thr': 'T', 'Val': 'V', 'Trp': 'W', 'Tyr': 'Y'}\n",
    "AA = Bio.Data.IUPACData.protein_letters_3to1\n",
    "print(AA)\n",
    "\n",
    "for key, value in AA.items():\n",
    "    if key.startswith('A'):\n",
    "        print(f\"{value} = Single-letter code for {key}\")\n",
    "        print(f\"{key} -> {value}\")\n"
   ]
  },
  {
   "cell_type": "code",
   "execution_count": null,
   "metadata": {},
   "outputs": [],
   "source": []
  }
 ],
 "metadata": {
  "kernelspec": {
   "display_name": "Python 3.9.12 ('base')",
   "language": "python",
   "name": "python3"
  },
  "language_info": {
   "codemirror_mode": {
    "name": "ipython",
    "version": 3
   },
   "file_extension": ".py",
   "mimetype": "text/x-python",
   "name": "python",
   "nbconvert_exporter": "python",
   "pygments_lexer": "ipython3",
   "version": "3.9.12"
  },
  "orig_nbformat": 4,
  "vscode": {
   "interpreter": {
    "hash": "0a96dd23f7ca6db345c76b8f0df0a3d905c39d16ff1e6babaa65c42f53bbffaa"
   }
  }
 },
 "nbformat": 4,
 "nbformat_minor": 2
}
