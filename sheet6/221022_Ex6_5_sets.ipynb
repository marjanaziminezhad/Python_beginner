{
 "cells": [
  {
   "cell_type": "markdown",
   "metadata": {},
   "source": [
    "### 5 Sets are like dictionaries but with only key"
   ]
  },
  {
   "cell_type": "code",
   "execution_count": null,
   "metadata": {},
   "outputs": [],
   "source": [
    "s = 'AGHCDFJALSDFHVHASKDFLVHTUYPCV'\n",
    "len(set(s))"
   ]
  },
  {
   "cell_type": "code",
   "execution_count": null,
   "metadata": {},
   "outputs": [],
   "source": [
    "set1 = {1, 2, 3, 7}\n",
    "print(set1)\n",
    "set2 = {1, 2, 3, 4, 5}\n",
    "print(set2)\n",
    "\n",
    "print(set1 < set2)  # true if every set1 element also in set2, and set2 is larger\n",
    "print(set1 <= set2) # set1.issubset(collection) -> is set1 subset of set2?\n",
    "print(set1 | set2)  # set1.union(collection) -> combine set1 and set2\n",
    "print(set1 & set2)  # set1.intersection(collection) -> get elements that are both in set1 and set2\n",
    "set1 - set2  # set1.difference(set2) -> get set1 elements that are not in set2"
   ]
  },
  {
   "cell_type": "code",
   "execution_count": 12,
   "metadata": {},
   "outputs": [
    {
     "name": "stdout",
     "output_type": "stream",
     "text": [
      "{6}\n"
     ]
    }
   ],
   "source": [
    "A = {3,6,8}\n",
    "B = {6,7}\n",
    "\n",
    "print(A & B)  # A ∩ B (intersection)"
   ]
  },
  {
   "cell_type": "code",
   "execution_count": 20,
   "metadata": {},
   "outputs": [
    {
     "name": "stdout",
     "output_type": "stream",
     "text": [
      "{1, 2, 3, 4, 5, 18}\n",
      "{1, 3, 4, 5, 18}\n"
     ]
    }
   ],
   "source": [
    "set1.add(18)\n",
    "print(set1)\n",
    "set1.remove(2) \n",
    "print(set1) # see also: set1.discard(element), set1.pop()\n",
    "set1 |= set2  # set1.update(coll) -> add elements to set1\n",
    "set1 &= set2  # set1.interesection_update\n",
    "set1 -= set2  # set1.difference_update\n",
    "set1 ^= set2  # set1.symmetric_difference_update(coll)"
   ]
  },
  {
   "cell_type": "markdown",
   "metadata": {},
   "source": [
    "#### 1 Your colleague compiled a list of sequence identifiers they want to use in the experiment: \n",
    "best_seqids = ['f3', 'g9','e2','r0']. Another colleague compiled another list of sequence identifiers they want to use in the experiment: optimal_seqids = ['e2','e3','e4','f3','n1']"
   ]
  },
  {
   "cell_type": "code",
   "execution_count": 44,
   "metadata": {},
   "outputs": [
    {
     "name": "stdout",
     "output_type": "stream",
     "text": [
      "5\n",
      "{'g9', 'r0'}\n",
      "first set unique: {'g9', 'r0'}, second set unique {'e4', 'n1', 'e3'}\n",
      "ids in set1 or set2 or both {'e4', 'n1', 'e2', 'r0', 'e3', 'f3', 'g9'}\n"
     ]
    }
   ],
   "source": [
    "best_seqids = {'f3', 'g9','e2','r0'}\n",
    "optimal_seqids = {'e2','e3','e4','f3','n1'}\n",
    "# type(best_seqids)\n",
    "# type(optimal_seqids)\n",
    "\n",
    "# Determine how many distinct sequence identifiers are in both lists.\n",
    "\n",
    "print(len(best_seqids ^ optimal_seqids))\n",
    "\n",
    "# Determine which identifiers are only in the first list.\n",
    "\n",
    "print(best_seqids - optimal_seqids)\n",
    "\n",
    "# Determine which identifiers are unique in each one of the lists.\n",
    "\n",
    "print(f\"first set unique: {best_seqids - optimal_seqids}, second set unique {optimal_seqids-best_seqids }\")\n",
    "print(f\"ids in set1 or set2 or both {best_seqids | optimal_seqids}\")"
   ]
  }
 ],
 "metadata": {
  "kernelspec": {
   "display_name": "Python 3.9.12 ('base')",
   "language": "python",
   "name": "python3"
  },
  "language_info": {
   "codemirror_mode": {
    "name": "ipython",
    "version": 3
   },
   "file_extension": ".py",
   "mimetype": "text/x-python",
   "name": "python",
   "nbconvert_exporter": "python",
   "pygments_lexer": "ipython3",
   "version": "3.9.12"
  },
  "orig_nbformat": 4,
  "vscode": {
   "interpreter": {
    "hash": "a9f23f9588c1f1862d62288427d98e4687a15ebb571421751bb2b94153db64b2"
   }
  }
 },
 "nbformat": 4,
 "nbformat_minor": 2
}
