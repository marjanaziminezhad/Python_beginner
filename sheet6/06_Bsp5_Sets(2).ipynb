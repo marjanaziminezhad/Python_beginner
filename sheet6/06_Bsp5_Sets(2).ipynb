{
 "cells": [
  {
   "cell_type": "markdown",
   "id": "a0854119",
   "metadata": {},
   "source": [
    "# 5  Sets are like dictionaries but with only keys\n",
    "Sets are an unordered mutable collections of unique objects. (The corresponding immutable type is frozenset.) They are basically dictionaries that have only keys, without associated values (Python tutorial, realpython.com).\n",
    "\n",
    "Like dictionaries, sets allow for very efficient membership testing (item in my_set). This is possible because Python can \"convert\" the data item to its memory location. For example, if it sees the integer 1, it checks a specific memory location – and can immediately say if 1 is present in the set or not. If it sees the string \"abc\", it checks another memory location. If it sees the string \"a\", it checks a third memory location, and so on. Every object has a memory location \"assigned\", and Python can quickly check (in O(1) time) if the item is present or not. It doesn't need to look at all the other items in the set, like it would have to in a list or tuple. This is also why duplicates in a set/dictionary are not allowed, and indexing is not possible: the items don't have any order. It's the same with dictionary keys: no duplicates, no indexing, and very quick lookups. Internally, this works via a \"hash table\", as we'll learn later.\n",
    "Basic uses:\n",
    "\n",
    "searching (membership testing)\n",
    "eliminating duplicates\n",
    "comparisons: set operations operations like union, intersection, difference, symmetric difference\n",
    "For example, to determine the number of distinct characters in the string s = 'AGHCDFJALSDFHVHASKDFLVHTUYPCV', you can write len(set(s)).\n",
    "\n",
    "Set operators and corresponding method syntax:\n",
    "\n",
    "set1 < set2  # true if every set1 element also in set2, and set2 is larger\n",
    "set1 <= set2 # set1.issubset(collection) -> is set1 subset of set2?\n",
    "set1 | set2  # set1.union(collection) -> combine set1 and set2\n",
    "set1 & set2  # set1.intersection(collection) -> get elements that are both in set1 and set2\n",
    "set1 - set2  # set1.difference(set2) -> get set1 elements that are not in set2\n",
    "\n",
    "Basic set operations\n",
    "\n",
    "Because locating items in sets is much faster than in lists or tuples (Stackoverflow), sets are often used for comparisons between collections of items. On the downside, sets are unordered and allow no duplicates (like dictionary keys).\n",
    "\n",
    "Example:"
   ]
  },
  {
   "cell_type": "code",
   "execution_count": 1,
   "id": "5ea983ce",
   "metadata": {},
   "outputs": [
    {
     "name": "stdout",
     "output_type": "stream",
     "text": [
      "{6}\n"
     ]
    }
   ],
   "source": [
    "A = {3,6,8}\n",
    "B = {6,7}\n",
    "\n",
    "print(A & B)  # A ∩ B (intersection)"
   ]
  },
  {
   "cell_type": "code",
   "execution_count": null,
   "id": "9fcb50d7",
   "metadata": {},
   "outputs": [],
   "source": [
    "#Operators/methods to update sets:\n",
    "\n",
    "set1.add(element)\n",
    "set1.remove(element)  # see also: set1.discard(element), set1.pop()\n",
    "set1 |= set2  # set1.update(coll) -> add elements to set1\n",
    "set1 &= set2  # set1.interesection_update\n",
    "set1 -= set2  # set1.difference_update\n",
    "set1 ^= set2  # set1.symmetric_difference_update(coll)"
   ]
  },
  {
   "cell_type": "code",
   "execution_count": null,
   "id": "5921da71",
   "metadata": {},
   "outputs": [],
   "source": [
    ">>> basket = {'apple', 'orange', 'apple', 'pear', 'orange', 'banana'}\n",
    ">>> print(basket)                      # show that duplicates have been removed\n",
    "{'orange', 'banana', 'pear', 'apple'}\n",
    ">>> 'orange' in basket                 # fast membership testing\n",
    "True\n",
    ">>> 'crabgrass' in basket\n",
    "False\n",
    "\n",
    ">>> # Demonstrate set operations on unique letters from two words\n",
    "...\n",
    ">>> a = set('abracadabra')\n",
    ">>> b = set('alacazam')\n",
    ">>> a                                  # unique letters in a\n",
    "{'a', 'r', 'b', 'c', 'd'}\n",
    ">>> a - b                              # letters in a but not in b\n",
    "{'r', 'd', 'b'}\n",
    ">>> a | b                              # letters in a or b or both\n",
    "{'a', 'c', 'r', 'd', 'b', 'm', 'z', 'l'}\n",
    ">>> a & b                              # letters in both a and b\n",
    "{'a', 'c'}\n",
    ">>> a ^ b                              # letters in a or b but not both\n",
    "{'r', 'd', 'b', 'm', 'z', 'l'}\n",
    "\n",
    "#Similarly to list comprehensions, set comprehensions are also supported:\n",
    ">>> a = {x for x in 'abracadabra' if x not in 'abc'}\n",
    ">>> a\n",
    "{'r', 'd'}"
   ]
  },
  {
   "cell_type": "markdown",
   "id": "29a6e310",
   "metadata": {},
   "source": [
    "1. Your colleague compiled a list of sequence identifiers they want to use in the experiment: best_seqids = ['f3', 'g9','e2','r0']. Another colleague compiled another list of sequence identifiers they want to use in the experiment: optimal_seqids = ['e2','e3','e4','f3','n1']\n",
    "    - Determine how many distinct sequence identifiers are in both lists.\n",
    "    - Determine which identifiers are only in the first list.\n",
    "    - Determine which identifiers are unique in each one of the lists."
   ]
  },
  {
   "cell_type": "code",
   "execution_count": 23,
   "id": "54413429",
   "metadata": {},
   "outputs": [],
   "source": [
    "best_sequids = {'f3', 'g9', 'e2', 'r0'}\n",
    "optimal_sequids = {'e2','e3','e4','f3','n1'}"
   ]
  },
  {
   "cell_type": "code",
   "execution_count": 38,
   "id": "10e5384f",
   "metadata": {},
   "outputs": [
    {
     "name": "stdout",
     "output_type": "stream",
     "text": [
      "identifiers in both lists: {'n1', 'g9', 'e3', 'r0', 'e4'}\n",
      "that is 5 distinct identifiers.\n"
     ]
    }
   ],
   "source": [
    "# determine how many distinct sequence identifiers are in both lists.\n",
    "print(f\"identifiers in both lists: {best_sequids ^ optimal_sequids}\")\n",
    "print(f\"that is {(len(best_sequids ^ optimal_sequids))} distinct identifiers.\")\n",
    "# ^ items that are in list 1 or list 2 but not both --> machen Listen unterscheidbar"
   ]
  },
  {
   "cell_type": "code",
   "execution_count": 25,
   "id": "a8ae4ac4",
   "metadata": {},
   "outputs": [
    {
     "data": {
      "text/plain": [
       "{'g9', 'r0'}"
      ]
     },
     "execution_count": 25,
     "metadata": {},
     "output_type": "execute_result"
    }
   ],
   "source": [
    "# determine which identifiers are only in the first list.\n",
    "best_sequids - optimal_sequids"
   ]
  },
  {
   "cell_type": "code",
   "execution_count": 35,
   "id": "e750f78d",
   "metadata": {},
   "outputs": [
    {
     "name": "stdout",
     "output_type": "stream",
     "text": [
      "all identifiers that are listed: {'e3', 'r0', 'e4', 'f3', 'e2', 'g9', 'n1'}\n",
      "identifiers in list 1 OR list 2: {'n1', 'g9', 'e3', 'r0', 'e4'}\n",
      "identifiers only in list 1: {'r0', 'g9'}\n",
      "identifiers only in list 2: {'e4', 'n1', 'e3'}\n"
     ]
    }
   ],
   "source": [
    "# all identifiers in both lists:\n",
    "print(f\"all identifiers that are listed: {best_sequids | optimal_sequids}\") #letters in list 1 or list 2 or both\n",
    "\n",
    "# determine which identifiers are unique in each one of the lists\n",
    "print(f\"identifiers in list 1 OR list 2: {best_sequids ^ optimal_sequids}\")\n",
    "# ^ excludes identifiers which are present in both lists (list 1 OR list 2 but not in both)\n",
    "\n",
    "# determine which are unique in list 1 so we can find out, which one of the previous listed identifiers belong\n",
    "# to list 1\n",
    "print(f\"identifiers only in list 1: {best_sequids - optimal_sequids}\")\n",
    "\n",
    "# determine which are unique in list 2 so we can find out, which one of the previous listed identifiers belong\n",
    "# to list 2\n",
    "print(f\"identifiers only in list 2: {optimal_sequids - best_sequids}\")"
   ]
  }
 ],
 "metadata": {
  "kernelspec": {
   "display_name": "Python 3 (ipykernel)",
   "language": "python",
   "name": "python3"
  },
  "language_info": {
   "codemirror_mode": {
    "name": "ipython",
    "version": 3
   },
   "file_extension": ".py",
   "mimetype": "text/x-python",
   "name": "python",
   "nbconvert_exporter": "python",
   "pygments_lexer": "ipython3",
   "version": "3.9.12"
  }
 },
 "nbformat": 4,
 "nbformat_minor": 5
}
