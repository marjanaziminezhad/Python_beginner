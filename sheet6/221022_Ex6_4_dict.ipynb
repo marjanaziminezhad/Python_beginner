{
 "cells": [
  {
   "cell_type": "markdown",
   "metadata": {},
   "source": [
    "### 4  A dictionary maps keys to values\n",
    "\n",
    "Input are keys and output are values.We can use all kinds of datatypes for keys and values and mix and match data.\n",
    "\n",
    "#### 1 What happens if a key is absent from a dictionary, and how can you deal with this case?\n",
    "\n",
    "We get a KeyError: 'location' that tells us, that this key is not in in the dictionary. "
   ]
  },
  {
   "cell_type": "code",
   "execution_count": null,
   "metadata": {},
   "outputs": [],
   "source": [
    "my_dict= dict(a=1, b=2, c=3)\n",
    "print(type(my_dict))\n",
    "print(my_dict)\n",
    "\n",
    "print(my_dict[\"d\"])  # we get a KeyError: 'd'"
   ]
  },
  {
   "cell_type": "markdown",
   "metadata": {},
   "source": [
    "**How can we avoid this:**\n",
    "- if statement"
   ]
  },
  {
   "cell_type": "code",
   "execution_count": null,
   "metadata": {},
   "outputs": [],
   "source": [
    "if 'd' in my_dict:\n",
    "    print(\"yeah\")\n",
    "else:\n",
    "    print(\"oh no\")"
   ]
  },
  {
   "cell_type": "markdown",
   "metadata": {},
   "source": [
    "- try and retrive the value but handle a possibility of a KeyError"
   ]
  },
  {
   "cell_type": "code",
   "execution_count": null,
   "metadata": {},
   "outputs": [],
   "source": [
    "try:\n",
    "    print(my_dict['d'])\n",
    "except KeyError:\n",
    "    print(\"oh no\")"
   ]
  },
  {
   "cell_type": "markdown",
   "metadata": {},
   "source": [
    " - dir(post2) and we will see a list of methods available to us; to see what it does use the help function e.g. help(post2.get)"
   ]
  },
  {
   "cell_type": "code",
   "execution_count": null,
   "metadata": {},
   "outputs": [],
   "source": [
    "loc = my_dict.get(\"d\", None)\n",
    "print(loc) ## The return value is none if the letter d is not in the dictionary"
   ]
  },
  {
   "cell_type": "markdown",
   "metadata": {},
   "source": [
    "if we use key we just loop through the keys"
   ]
  },
  {
   "cell_type": "code",
   "execution_count": null,
   "metadata": {},
   "outputs": [],
   "source": [
    "for key in my_dict.keys():\n",
    "    print(f\"key: {key}\")"
   ]
  },
  {
   "cell_type": "markdown",
   "metadata": {},
   "source": [
    "to print the keys and its values:"
   ]
  },
  {
   "cell_type": "code",
   "execution_count": null,
   "metadata": {},
   "outputs": [],
   "source": [
    "for key, value in my_dict.items():\n",
    "    print(f\"key: {key}, value: {value}\")"
   ]
  },
  {
   "cell_type": "markdown",
   "metadata": {},
   "source": [
    "#### 2 To which list-related exception is the KeyError exception comparable? In other words: Which exception is raised if you try to access a non-existing list item?\n",
    "\n",
    "We get an IndexError, if we would like to check a number of index that is not defined. E.g we have 3 list items but we would like to take a look at number 5.\n",
    "But I guess this is not the question...?"
   ]
  },
  {
   "cell_type": "code",
   "execution_count": null,
   "metadata": {},
   "outputs": [],
   "source": [
    "my_list= [1,2,3]\n",
    "print(type(my_list))\n",
    "print(my_list)\n",
    "\n",
    "print (my_list[5])"
   ]
  },
  {
   "cell_type": "markdown",
   "metadata": {},
   "source": [
    "\n",
    "#### 3 Write a function that prints the single-letter code of all amino acids that start with the letter \"A\". You can use the dictionaries provided by the Bio.Data.IUPACData module. (You may need to install Biopython using conda install -c conda-forge biopython, see biopython.org.)"
   ]
  },
  {
   "cell_type": "code",
   "execution_count": null,
   "metadata": {},
   "outputs": [],
   "source": [
    "\n",
    "import Bio.Data.IUPACData\n",
    "# help(Bio.Data.IUPACData)\n",
    "# print(Bio.Data.IUPACData.protein_letters_3to1)\n",
    "dicAmino = Bio.Data.IUPACData.protein_letters_3to1\n",
    "#print(dicAmino)\n",
    "\n",
    "for key, value in dicAmino.items():\n",
    "    if key.startswith(\"A\"):\n",
    "        print(f\"{key} --> {value}\")"
   ]
  },
  {
   "cell_type": "markdown",
   "metadata": {},
   "source": [
    "#### 4 Challenge (optional):  Not started yet\n",
    "\n",
    "The code in Code 1 reads a file with a codon table and builds a dictionary: codon → amino acid. Wrap the code in the function read_codon_table. Write a function translate_codon_sequence, that translates a sequence of codons to a sequence of amino acids in 3-letter or 1-letter alphabet (determined by an additional option)."
   ]
  },
  {
   "cell_type": "code",
   "execution_count": null,
   "metadata": {},
   "outputs": [],
   "source": [
    "# Code 1\n",
    "infile = '../exercises-python/_data/codon_table.txt'\n",
    "\n",
    "codon_aa3 = {}  # codon -> 3-letter amino acid\n",
    "codon_aa1 = {}  # codon -> 1-letter amino acid\n",
    "\n",
    "with open(infile) as fin:\n",
    "    for line in fin:\n",
    "        if line.startswith('#'):  # comment line, skip it\n",
    "            continue\n",
    "        # line format: Codon\\tAminoAcid\\tLetter\\tFullName\n",
    "        codon, aa, letter, full_name = line.strip().split('\\t')\n",
    "        codon_aa3[codon] = aa\n",
    "        codon_aa1[codon] = letter\n",
    "        \n",
    "print(codon_aa3['AAT'], '=', codon_aa1['AAT'])\n",
    "print(codon_aa3['TAA'], '=', codon_aa1['TAA'])"
   ]
  },
  {
   "cell_type": "code",
   "execution_count": null,
   "metadata": {},
   "outputs": [],
   "source": [
    "# Template\n",
    "infile = './codon_table.txt'\n",
    "codon_aa3 = {}  # codon -> 3-letter amino acid\n",
    "codon_aa1 = {}  # codon -> 1-letter amino acid\n",
    "\n",
    "def read_codon_table(infile):\n",
    "    \"\"\"Reads codon table file and fills corresponding dictionaries\"\"\"\n",
    "    # Like lists, dictionaries are mutable and can therefore be modified in a function\n",
    "    pass\n",
    "\n",
    "\n",
    "def translate_codon_sequence(codons, alphabet=1):\n",
    "    \"\"\"Translates sequence of codons into sequence of amino acids\"\"\"\n",
    "    assert (alphabet == 1) or (alphabet == 3), f\"alphabet is {alphabet}, must be 1 or 3\"\n",
    "    pass\n",
    "\n",
    "\n",
    "#read_codon_table(infile)\n",
    "#print(f\"{codon_aa3['AAT']} = {codon_aa1['AAT']}\")\n",
    "# etc."
   ]
  }
 ],
 "metadata": {
  "kernelspec": {
   "display_name": "Python 3.9.12 ('base')",
   "language": "python",
   "name": "python3"
  },
  "language_info": {
   "codemirror_mode": {
    "name": "ipython",
    "version": 3
   },
   "file_extension": ".py",
   "mimetype": "text/x-python",
   "name": "python",
   "nbconvert_exporter": "python",
   "pygments_lexer": "ipython3",
   "version": "3.9.12"
  },
  "orig_nbformat": 4,
  "vscode": {
   "interpreter": {
    "hash": "a9f23f9588c1f1862d62288427d98e4687a15ebb571421751bb2b94153db64b2"
   }
  }
 },
 "nbformat": 4,
 "nbformat_minor": 2
}
