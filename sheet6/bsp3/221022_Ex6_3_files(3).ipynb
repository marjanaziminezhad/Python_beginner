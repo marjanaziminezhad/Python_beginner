{
 "cells": [
  {
   "cell_type": "markdown",
   "metadata": {},
   "source": [
    "## Reading an writing files: Sunflowers and lovebirds\n",
    "\n",
    "#### 2 Give 3-4 examples of attributes of file objects. (An attribute can be any Python object; usually, people distinguish \"data attributes\" (e.g. a = 7; type(a.real)) and methods (e.g. a = \"abc\"; type(a.upper))\n",
    "\n",
    "f = open('workfile', 'w', encoding=\"utf-8\") \n",
    "\"w\" is for write (it will overwrite an existing file, or simply create an empty file when we use pass), \"r\" is for read, \"r+\" is for read and write, \"a\" is for append\n",
    "\n",
    "- f.read() -> to read a file content, a integer within the brackets defines the number of characters read; when we are at the end of a file, read returns an empty string\n",
    "- f.close() -> to close a file object\n",
    "- f.readline() -> reads a single line of the file if the file doesn't end in a newline \n",
    "    -  The print statement ends with a new line by default, therefore we need to write, end='' within the print function that this new line is not printed.\n",
    "    - we can write print several times and it will always print the next line of the file instead of always the first line.\n",
    "        \n",
    "- f.readlines() -> reads all lines and prints it as a list with \\n with every line as a different element. \n",
    "   \n",
    "- f.write(string) -> writes the contents of a string to the file, returning the number of charater written; \n",
    "\n",
    "- f.tell() -> returns an integer giving the file objects current position in the file represented as number of bytes from the beginning of the file when in binary mode and an opaque number when in text mode\n",
    "- f.seek() -> change the file object's position\n",
    "- f.name() -> prints the name of the file\n",
    "- f.mode() -> prints the mode (a 'w' in our example above)\n",
    "\n",
    "\n",
    "### 3 To illustrate the concepts, watch this video (\"Python Tutorial: File Objects - Reading and Writing to Files\" by Corey Schafer).\n",
    "\n",
    "#### What is the advantage of using a context manager?\n",
    "- context manager: with open ('test.txt', 'r') as f:\n",
    "- allows us to work with files within this block and when we exit the block it automatically closes the file and we don't have to worry, whether we have closed the file or not. But we still have access to the file even though it is closed. e.g. print(f.close) returns true. However, we cannot read it and therefore we need to work with the file within the context manager.\n",
    "\n",
    "#### What is the advantage of reading a file line by line in a for loop?\n",
    "-  for line in f:\n",
    "            print(f.readline(), end'')\n",
    "-  this way, we do not get a memory issue when we have large files, because it always picks one line at a time an then frees up memory and gets the next line\n",
    "\n",
    "#### What is the function of the f.tell and f.seek methods? \n",
    "\n",
    "see above; \n",
    "\n",
    "- f.tell tells us at which position in the file we are right now\n",
    "\n",
    "- with f.seek we can for example start at the beginning of the file again when we set it to 0. (f.seek(0)), seek works also with writing, eg. go to the first position and overwrite what was already there. It only overrates what is can, e.g if we have Test and use f.seek(0) f.write(R) the new word will be Rest.\n",
    "\n",
    "#### What is the difference between text and binary mode?\n",
    "\n",
    "- images need to be opend in binary mode\n",
    "- instead of r or w we need to use rb or wb\n",
    "\n",
    "- What was the chunk size example for? Melys answer to this: If we want to copy a picture we need to choose a random number. This number represents a fragment of bytes. We use a for loop to copy these fragments in a new file until no fragment is available anymore because the requirement len(rf_chunk) > 0 is not fullfilled anymore. \n",
    "In order that the memory will not exceed we need to split it in chunk sizes. "
   ]
  },
  {
   "cell_type": "markdown",
   "metadata": {},
   "source": [
    "### 5 Write a Python script that reads the file hello.txt and outputs a file hello.out.txt with four lines:\n",
    " oldsunflower\n",
    " \n",
    " newsunflower\n",
    " \n",
    " oldlovebird\n",
    " \n",
    " newlovebird"
   ]
  },
  {
   "cell_type": "code",
   "execution_count": null,
   "metadata": {},
   "outputs": [],
   "source": [
    "# check to print the lines, and read the new document\n",
    "#! usr/bin/env python\n",
    "\n",
    "with open(\"/home/lindi/Homework/221022_Ex6/hello.txt\", \"r\", encoding='UTF-8') as rf:\n",
    "    with open(\"/home/lindi/Homework/221022_Ex6/hello.out.txt\", \"r+\", encoding='UTF-8') as wf:\n",
    "        print(rf.readline(), end='')\n",
    "        print(rf.readline(), end='')\n",
    "        print(wf.read())"
   ]
  },
  {
   "cell_type": "code",
   "execution_count": null,
   "metadata": {},
   "outputs": [],
   "source": [
    "# to check whether the print of the words is working\n",
    "with open(\"/home/lindi/Homework/221022_Ex6/hello.txt\", \"r\", encoding='UTF-8') as rf:\n",
    "    with open(\"/home/lindi/Homework/221022_Ex6/hello.out.txt\", \"r+\", encoding='UTF-8') as wf:\n",
    "        for el in rf:\n",
    "            print(f\"new{el}\", end='')\n",
    "            print(f\"old{el}\", end='')"
   ]
  },
  {
   "cell_type": "code",
   "execution_count": null,
   "metadata": {},
   "outputs": [],
   "source": [
    "# This is the python script, that outputs the file with the 4 required lines\n",
    "#! usr/bin/env python\n",
    "\n",
    "read_file = \"/home/lindi/Homework/221022_Ex6/hello.txt\"\n",
    "write_file = \"/home/lindi/Homework/221022_Ex6/hello.out.txt\"\n",
    "\n",
    "\n",
    "with open(read_file, \"r\", encoding=\"UTF-8\") as rf:\n",
    "    with open(write_file, \"w\", encoding=\"UTF-8\" # we need write, if the file aready exists we could also write w+ to make it readable, \n",
    "    ) as wf:                                    # r+ would make it readable and writeable, however we have a problem in case the file does not exits\n",
    "                                                # w+ on the other hand would make it writeable and readable, this would work # a is for append\n",
    "        for el in rf:               # make a for loop that iterates over the words in hello.txt \n",
    "            wf.write(\"new\" + str(el))       # writes to the new file, write only accepts one argument and it must be a string\n",
    "            wf.write(\"old\" + str(el))\n",
    "        \n",
    "# if I want to take a look at my file right away:\n",
    "wf = open(write_file, \"r\") # opens the file\n",
    "wf_content = wf.read()      # reads the content of my newly created file\n",
    "print(wf_content)           # prints the content of my newly created file\n",
    "wf.close()                  # closes the file again: this is very important; actually it is always better to use a content manager \n",
    "\n",
    "# therefore we should actually do it like this:\n",
    "\n",
    "with open(write_file, \"r\", encoding=\"UTF-8\") as wf: #this time I only want to read it\n",
    "    wf_content = wf.read()\n",
    "    print(wf_content)"
   ]
  },
  {
   "cell_type": "markdown",
   "metadata": {},
   "source": [
    "### 6 Modify the script to accept the input file name as first argument on the command line, rather than being hardcoded in the script."
   ]
  },
  {
   "cell_type": "code",
   "execution_count": null,
   "metadata": {},
   "outputs": [],
   "source": [
    "\n",
    "import sys\n",
    "\n",
    "from pathlib import Path  # import the Path module\n",
    "\n",
    "file_input = Path(sys.argv[1]) # sys.argv takes the argument von the command line, [0] is the name of the python file. e.g. Ex_3_script.py, therefore the first argument we actually enter is [1] and is our path\n",
    "                               # Path returns the path of our input argument \n",
    "with open(file_input, \"r\", encoding=\"UTF-8\") as rf: \n",
    "    with open(file_input.with_suffix(\".out.txt\"), \"w\", encoding=\"UTF-8\") as wf:  # here we make use of the path module and change the suffix of the file from .txt to out.txt with the attribute .with_suffix, and open creates a  new file\n",
    "\n",
    "        for el in rf:\n",
    "            wf.write(\"new\" + str(el))\n",
    "            wf.write(\"old\" + str(el))\n",
    "\n",
    "# again here we could write a block to print the outcome immediatly if we would like to take a look "
   ]
  },
  {
   "cell_type": "markdown",
   "metadata": {},
   "source": [
    "### 7 Write a second version of the script that doesn't read from a file or write to a file, but instead reads from stdin (Stackoverflow) and writes to stdout (you can simply use print for this: see print? and Stackoverflow)."
   ]
  },
  {
   "cell_type": "code",
   "execution_count": null,
   "metadata": {},
   "outputs": [],
   "source": [
    "import sys\n",
    "\n",
    "for el in sys.stdin:  # eg. < test.in.txt in command line\n",
    "    sys.stdout.write(\"new\" + el)  # e.g. > test.out.txt in command line\n",
    "    sys.stdout.write(\"old\" + el)\n",
    "\n",
    "\n",
    "# python 221022_Ex6_3_script_stdIn.py < test.in.txt > test.out.txt     this is how the command line should look like "
   ]
  }
 ],
 "metadata": {
  "kernelspec": {
   "display_name": "Python 3.9.12 ('base')",
   "language": "python",
   "name": "python3"
  },
  "language_info": {
   "codemirror_mode": {
    "name": "ipython",
    "version": 3
   },
   "file_extension": ".py",
   "mimetype": "text/x-python",
   "name": "python",
   "nbconvert_exporter": "python",
   "pygments_lexer": "ipython3",
   "version": "3.9.12"
  },
  "orig_nbformat": 4,
  "vscode": {
   "interpreter": {
    "hash": "a9f23f9588c1f1862d62288427d98e4687a15ebb571421751bb2b94153db64b2"
   }
  }
 },
 "nbformat": 4,
 "nbformat_minor": 2
}
