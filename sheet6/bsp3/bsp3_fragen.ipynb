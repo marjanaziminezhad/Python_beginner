{
 "cells": [
  {
   "cell_type": "markdown",
   "metadata": {},
   "source": [
    "What is the advantage of using a context manager?\n",
    "\n",
    "    context manager: with open ('test.txt', 'r') as f:\n",
    "    allows us to work with files within this block and when we exit the block it automatically closes the file and we don't have to worry, whether we have closed the file or not. But we still have access to the file even though it is closed. e.g. print(f.close) returns true. However, we cannot read it and therefore we need to work with the file within the context manager.\n",
    "\n",
    "What is the advantage of reading a file line by line in a for loop?\n",
    "\n",
    "    for line in f:\n",
    "\n",
    "          print(f.readline(), end'')\n",
    "\n",
    "    this way, we do not get a memory issue when we have large files, because it always picks one line at a time an then frees up memory and gets the next line\n",
    "\n",
    "What is the function of the f.tell and f.seek methods?\n",
    "\n",
    "see above;\n",
    "\n",
    "    f.tell tells us at which position in the file we are right now\n",
    "\n",
    "    with f.seek we can for example start at the beginning of the file again when we set it to 0. (f.seek(0)), seek works also with writing, eg. go to the first position and overwrite what was already there. It only overrates what is can, e.g if we have Test and use f.seek(0) f.write(R) the new word will be Rest.\n",
    "\n",
    "What is the difference between text and binary mode?\n",
    "\n",
    "    images need to be opend in binary mode\n",
    "\n",
    "    instead of r or w we need to use rb or wb\n",
    "\n",
    "    What was the chunk size example for? Melys answer to this: If we want to copy a picture we need to choose a random number. This number represents a fragment of bytes. We use a for loop to copy these fragments in a new file until no fragment is available anymore because the requirement len(rf_chunk) > 0 is not fullfilled anymore. In order that the memory will not exceed we need to split it in chunk sizes.\n"
   ]
  }
 ],
 "metadata": {
  "kernelspec": {
   "display_name": "Python 3.10.6 (conda)",
   "language": "python",
   "name": "python3"
  },
  "language_info": {
   "name": "python",
   "version": "3.10.6"
  },
  "orig_nbformat": 4,
  "vscode": {
   "interpreter": {
    "hash": "f139eb95dc7458f532b463c4b0877e2c71664b376e1cbbde639cfe15fd546385"
   }
  }
 },
 "nbformat": 4,
 "nbformat_minor": 2
}
