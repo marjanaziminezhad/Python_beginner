{
 "cells": [
  {
   "cell_type": "markdown",
   "id": "feaeace2",
   "metadata": {},
   "source": [
    "#  4  A Bash script\n",
    "Reading other people's code is an essential skill. Like with books, it's hard to become a good writer without being a good reader.\n",
    "\n",
    "1. Explain how the code below works (for an explanation of break: ryanstutorials.net).\n",
    "2. Read this post about different types of brackets in Bash constructs. What is the difference between test, [ and [[? (Useful commands: type, which, whatis; Stackoverflow)\n",
    "#!/bin/bash      # Make a backup set of files\n",
    "\n",
    "DIR=$1\n",
    "for value in $DIR/*; do\n",
    "    used=$( df $DIR | tail -1 | awk '{ print $5 }' | sed 's/%//' )\n",
    "    if [ $used -gt 90 ]; then\n",
    "        echo Low disk space 1>&2\n",
    "        break\n",
    "    fi\n",
    "    cp $value $DIR/backup/"
   ]
  },
  {
   "cell_type": "markdown",
   "id": "9963ca9b",
   "metadata": {},
   "source": [
    "1. Explain how the code below works (for an explanation of break: ryanstutorials.net).\n",
    "break statement tells Bash to leave the loop straight away if a certain argument is entered;\n",
    "may be that there is a normal situation that should cause to loop to end but there are also exceptional situations in which it should end as well;\n",
    "in this case: files are copied; when the free disk space gets below a certain level copying should be stopped;\n",
    "\n",
    "DIR --> Inputvariable --> in this case directory which should be checked for free space\n",
    "\n",
    "    - df - report file system disk space usage\n",
    "\n",
    "df ~/Downloads/\n",
    "Filesystem     1K-blocks     Used Available Use% Mounted on\n",
    "/dev/sda3       61091660 25861252  32094716  45% /\n",
    "\n",
    "    - tail - output the last part of files\n",
    "tail -1 --> output the line before the last line of file\n",
    "\n",
    "    - df ~/Downloads/ | tail -1\n",
    "/dev/sda3       61091660 25861248  32094720  45% /\n",
    "\n",
    "    - awk - pattern scanning and text processing language\n",
    "needs {pattern} to work\n",
    "\n",
    "    - sed - stream editor for filtering and transforming text\n",
    "filters for given arguments (in this case 's or % or /')\n",
    "\n",
    "df ~/Downloads/ | tail -1 | sed 's/%//'\n",
    "/dev/sda3       61091660 25860172  32095796  45 /\n",
    "--> % is left out for 45%\n",
    "\n",
    "    - $used -gt 90 \n",
    "gt = greater than --> here: greater than 90\n",
    "\n",
    "    - cp - copy files and directories\n",
    "\n",
    "SCRIPT NOT WORKING\n",
    "./Bsp4.sh \n",
    "./Bsp4.sh: line 4: unexpected EOF while looking for matching `''\n",
    "./Bsp4.sh: line 12: syntax error: unexpected end of file"
   ]
  },
  {
   "cell_type": "markdown",
   "id": "c777500b",
   "metadata": {},
   "source": [
    "2. Read this post about different types of brackets in Bash constructs. What is the difference between test, [ and [[? (Useful commands: type, which, whatis; Stackoverflow)\n",
    "\n",
    "enter commands in shell:\n",
    "\n",
    "- type test\n",
    "test is a shell builtin\n",
    "\n",
    "- which test\n",
    "/usr/bin/test\n",
    "\n",
    "- whatis test\n",
    "test (1)             - check file types and compare values\n",
    "\n",
    "- man test\n",
    "check file types and compare values\n",
    "--> compares one element to another and returns true or false\n",
    "\n",
    "[ 1 -eq 2 ] &&echo \"true\" || echo \"false\"          LEERZEICHEN BEACHTEN!!!\n",
    "false\n",
    "*equals*\n",
    "test 1 -eq 2 &&echo \"true\" || echo \"false\"\n",
    "false\n",
    "\n",
    "|| --> then/else --> command nach || wird nur ausgeführt, wenn erstes Argument falsch ist\n",
    "\n",
    "test provides no output, but returns an exit status of 0 for \"true\" (test successful) and 1 for \"false\" (test failed). The test command is frequently used as part of a conditional expression. For instance, the following statement says, \"If 4 is greater than 5, output yes, otherwise output no.\"\n",
    "\n",
    "num=4; if (test $num -gt 5); then echo \"yes\"; else echo \"no\"; fi\n",
    "no\n",
    "\n",
    "test command may also be expressed with single brackets [...] as long as they are separated from all other arguments with whitespace\n",
    "\n",
    "- (...) --> parantheses indicate a subshell\n",
    "- {...} --> group commands, but they only influence parsing (Zergliederung), not grouping\n",
    "- ((...)) --> arithmetic instruction\n",
    "- [[...]] --> conditional expression (e.g. -n $variable to test if a variable is empty; -e $file to test if a file exists)\n",
    "- [...] --> alternate form of conditional expression with more quirks (but older and more portable); DO NOT USE\n",
    "\n",
    "- [[...]] preferred over [...], test, and /usr/bin/[\n",
    "- [[...]] reduces errors as no pathname expansion or word splitting takes place between [[ and ]]. In addition, [[...]] allows for regular exression matching, while [...] does not"
   ]
  },
  {
   "cell_type": "markdown",
   "id": "a6db9c45",
   "metadata": {},
   "source": [
    "# further statements/mechanisms:\n",
    "\n",
    "    - The continue statement tells Bash to stop running through this iteration of the loop and begin the next iteration. Sometimes there are circumstances that stop us from going any further. For instance, maybe we are using the loop to process a series of files but if we happen upon a file which we don't have the read permission for we should not try to process it.\n",
    "#!/bin/bash   # Make a backup set of files\n",
    "for value in $1/*\n",
    "do\n",
    "if [ ! -r $value ]\n",
    "then\n",
    "echo $value not readable 1>&2\n",
    "continue\n",
    "fi\n",
    "cp $value $1/backup/\n",
    "done\n",
    "    \n",
    "    - The select mechanism allows you to create a simple menu system. It has the following format:\n",
    "    select var in <list>\n",
    "do\n",
    "<commands>\n",
    "done"
   ]
  },
  {
   "cell_type": "markdown",
   "id": "e5c9b44f",
   "metadata": {},
   "source": [
    "bsp5"
   ]
  },
  {
   "cell_type": "code",
   "execution_count": null,
   "id": "801d1584",
   "metadata": {},
   "outputs": [],
   "source": [
    "(base) marjan@marjan-VirtualBox:~/apps/ncbi-blast-2.13.0+/bin$ ln -s * ~/bin"
   ]
  }
 ],
 "metadata": {
  "kernelspec": {
   "display_name": "Python 3.8.10 64-bit",
   "language": "python",
   "name": "python3"
  },
  "language_info": {
   "codemirror_mode": {
    "name": "ipython",
    "version": 3
   },
   "file_extension": ".py",
   "mimetype": "text/x-python",
   "name": "python",
   "nbconvert_exporter": "python",
   "pygments_lexer": "ipython3",
   "version": "3.8.10"
  },
  "vscode": {
   "interpreter": {
    "hash": "916dbcbb3f70747c44a77c7bcd40155683ae19c65e1c03b4aa3499c5328201f1"
   }
  }
 },
 "nbformat": 4,
 "nbformat_minor": 5
}
