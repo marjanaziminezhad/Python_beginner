{
 "cells": [
  {
   "cell_type": "code",
   "execution_count": 3,
   "metadata": {},
   "outputs": [
    {
     "data": {
      "text/plain": [
       "True"
      ]
     },
     "execution_count": 3,
     "metadata": {},
     "output_type": "execute_result"
    }
   ],
   "source": [
    "# Solution 1\n",
    "def can_construct(target, source):\n",
    "    \"\"\"Determines if string `target` can be constructed using characters from string `source`.\"\"\"\n",
    "    source = list(source)\n",
    "    for el in target:\n",
    "        try:\n",
    "            i = source.index(el)\n",
    "            source[i] = None\n",
    "        except ValueError:  # the `index` method raises ValueError if item is absent\n",
    "            return False\n",
    "    return True\n",
    "\n",
    "\n",
    "ransom_note = \"acf\"\n",
    "magazine = \"acfggftdr\"\n",
    "can_construct(ransom_note, magazine)\n"
   ]
  },
  {
   "cell_type": "code",
   "execution_count": 28,
   "metadata": {},
   "outputs": [
    {
     "data": {
      "text/plain": [
       "True"
      ]
     },
     "execution_count": 28,
     "metadata": {},
     "output_type": "execute_result"
    }
   ],
   "source": [
    "#Solution 2\n",
    "from collections import Counter\n",
    "def can_construct2(ransom_note, magazine):\n",
    "    letter_counts = Counter(magazine) # ein dict.-> hashable elements sorted as dict keys and the counts stored as dict values\n",
    "    for el in ransom_note:\n",
    "        if letter_counts[el] > 0: # if num of letters in magazine is more than 0 then -1 if no letter is there then false\n",
    "            letter_counts[el] -= 1\n",
    "        else:\n",
    "            return False\n",
    "    return True\n",
    "\n",
    "\n",
    "ransom_note = \"acf\"\n",
    "magazine = \"acfggftdr\"\n",
    "can_construct2(ransom_note, magazine)\n",
    "#ransom_note (magazine, ransom)\n",
    "#print(Counter(magazine)['a'])\n"
   ]
  },
  {
   "cell_type": "code",
   "execution_count": 29,
   "metadata": {},
   "outputs": [
    {
     "name": "stdout",
     "output_type": "stream",
     "text": [
      "len(ransom_note)=10, len(magazine)=10\n",
      "2.28 µs ± 798 ns per loop (mean ± std. dev. of 7 runs, 100,000 loops each)\n",
      "4.66 µs ± 1.68 µs per loop (mean ± std. dev. of 7 runs, 100,000 loops each)\n",
      "len(ransom_note)=100, len(magazine)=100\n",
      "5.55 µs ± 1.05 µs per loop (mean ± std. dev. of 7 runs, 100,000 loops each)\n",
      "10.2 µs ± 1.48 µs per loop (mean ± std. dev. of 7 runs, 100,000 loops each)\n",
      "len(ransom_note)=1000, len(magazine)=1000\n",
      "4.06 ms ± 1.69 ms per loop (mean ± std. dev. of 7 runs, 100 loops each)\n",
      "271 µs ± 82.3 µs per loop (mean ± std. dev. of 7 runs, 1,000 loops each)\n",
      "len(ransom_note)=10000, len(magazine)=10000\n",
      "638 ms ± 216 ms per loop (mean ± std. dev. of 7 runs, 1 loop each)\n",
      "3.82 ms ± 1.33 ms per loop (mean ± std. dev. of 7 runs, 100 loops each)\n",
      "len(ransom_note)=100000, len(magazine)=100000\n"
     ]
    },
    {
     "ename": "KeyboardInterrupt",
     "evalue": "",
     "output_type": "error",
     "traceback": [
      "\u001b[0;31m---------------------------------------------------------------------------\u001b[0m",
      "\u001b[0;31mKeyboardInterrupt\u001b[0m                         Traceback (most recent call last)",
      "\u001b[1;32m/home/marjan/Documents/Exercise/sheet7/bsp4.ipynb Cell 3\u001b[0m in \u001b[0;36m<cell line: 6>\u001b[0;34m()\u001b[0m\n\u001b[1;32m      <a href='vscode-notebook-cell:/home/marjan/Documents/Exercise/sheet7/bsp4.ipynb#W3sZmlsZQ%3D%3D?line=8'>9</a>\u001b[0m magazine \u001b[39m=\u001b[39m [random\u001b[39m.\u001b[39mchoice(string\u001b[39m.\u001b[39mascii_letters) \u001b[39mfor\u001b[39;00m el \u001b[39min\u001b[39;00m \u001b[39mrange\u001b[39m(length)]\n\u001b[1;32m     <a href='vscode-notebook-cell:/home/marjan/Documents/Exercise/sheet7/bsp4.ipynb#W3sZmlsZQ%3D%3D?line=9'>10</a>\u001b[0m \u001b[39mprint\u001b[39m(\u001b[39mf\u001b[39m\u001b[39m\"\u001b[39m\u001b[39m{\u001b[39;00m\u001b[39mlen\u001b[39m(ransom_note)\u001b[39m=}\u001b[39;00m\u001b[39m, \u001b[39m\u001b[39m{\u001b[39;00m\u001b[39mlen\u001b[39m(magazine)\u001b[39m=}\u001b[39;00m\u001b[39m\"\u001b[39m)\n\u001b[0;32m---> <a href='vscode-notebook-cell:/home/marjan/Documents/Exercise/sheet7/bsp4.ipynb#W3sZmlsZQ%3D%3D?line=10'>11</a>\u001b[0m get_ipython()\u001b[39m.\u001b[39;49mrun_line_magic(\u001b[39m'\u001b[39;49m\u001b[39mtimeit\u001b[39;49m\u001b[39m'\u001b[39;49m, \u001b[39m'\u001b[39;49m\u001b[39mcan_construct(ransom_note, magazine)\u001b[39;49m\u001b[39m'\u001b[39;49m)\n\u001b[1;32m     <a href='vscode-notebook-cell:/home/marjan/Documents/Exercise/sheet7/bsp4.ipynb#W3sZmlsZQ%3D%3D?line=11'>12</a>\u001b[0m get_ipython()\u001b[39m.\u001b[39mrun_line_magic(\u001b[39m'\u001b[39m\u001b[39mtimeit\u001b[39m\u001b[39m'\u001b[39m, \u001b[39m'\u001b[39m\u001b[39mcan_construct2(ransom_note, magazine)\u001b[39m\u001b[39m'\u001b[39m)\n",
      "File \u001b[0;32m~/Documents/Exercise/.conda/lib/python3.10/site-packages/IPython/core/interactiveshell.py:2305\u001b[0m, in \u001b[0;36mInteractiveShell.run_line_magic\u001b[0;34m(self, magic_name, line, _stack_depth)\u001b[0m\n\u001b[1;32m   2303\u001b[0m     kwargs[\u001b[39m'\u001b[39m\u001b[39mlocal_ns\u001b[39m\u001b[39m'\u001b[39m] \u001b[39m=\u001b[39m \u001b[39mself\u001b[39m\u001b[39m.\u001b[39mget_local_scope(stack_depth)\n\u001b[1;32m   2304\u001b[0m \u001b[39mwith\u001b[39;00m \u001b[39mself\u001b[39m\u001b[39m.\u001b[39mbuiltin_trap:\n\u001b[0;32m-> 2305\u001b[0m     result \u001b[39m=\u001b[39m fn(\u001b[39m*\u001b[39;49margs, \u001b[39m*\u001b[39;49m\u001b[39m*\u001b[39;49mkwargs)\n\u001b[1;32m   2306\u001b[0m \u001b[39mreturn\u001b[39;00m result\n",
      "File \u001b[0;32m~/Documents/Exercise/.conda/lib/python3.10/site-packages/IPython/core/magics/execution.py:1166\u001b[0m, in \u001b[0;36mExecutionMagics.timeit\u001b[0;34m(self, line, cell, local_ns)\u001b[0m\n\u001b[1;32m   1163\u001b[0m         \u001b[39mif\u001b[39;00m time_number \u001b[39m>\u001b[39m\u001b[39m=\u001b[39m \u001b[39m0.2\u001b[39m:\n\u001b[1;32m   1164\u001b[0m             \u001b[39mbreak\u001b[39;00m\n\u001b[0;32m-> 1166\u001b[0m all_runs \u001b[39m=\u001b[39m timer\u001b[39m.\u001b[39;49mrepeat(repeat, number)\n\u001b[1;32m   1167\u001b[0m best \u001b[39m=\u001b[39m \u001b[39mmin\u001b[39m(all_runs) \u001b[39m/\u001b[39m number\n\u001b[1;32m   1168\u001b[0m worst \u001b[39m=\u001b[39m \u001b[39mmax\u001b[39m(all_runs) \u001b[39m/\u001b[39m number\n",
      "File \u001b[0;32m~/Documents/Exercise/.conda/lib/python3.10/timeit.py:206\u001b[0m, in \u001b[0;36mTimer.repeat\u001b[0;34m(self, repeat, number)\u001b[0m\n\u001b[1;32m    204\u001b[0m r \u001b[39m=\u001b[39m []\n\u001b[1;32m    205\u001b[0m \u001b[39mfor\u001b[39;00m i \u001b[39min\u001b[39;00m \u001b[39mrange\u001b[39m(repeat):\n\u001b[0;32m--> 206\u001b[0m     t \u001b[39m=\u001b[39m \u001b[39mself\u001b[39;49m\u001b[39m.\u001b[39;49mtimeit(number)\n\u001b[1;32m    207\u001b[0m     r\u001b[39m.\u001b[39mappend(t)\n\u001b[1;32m    208\u001b[0m \u001b[39mreturn\u001b[39;00m r\n",
      "File \u001b[0;32m~/Documents/Exercise/.conda/lib/python3.10/site-packages/IPython/core/magics/execution.py:156\u001b[0m, in \u001b[0;36mTimer.timeit\u001b[0;34m(self, number)\u001b[0m\n\u001b[1;32m    154\u001b[0m gc\u001b[39m.\u001b[39mdisable()\n\u001b[1;32m    155\u001b[0m \u001b[39mtry\u001b[39;00m:\n\u001b[0;32m--> 156\u001b[0m     timing \u001b[39m=\u001b[39m \u001b[39mself\u001b[39;49m\u001b[39m.\u001b[39;49minner(it, \u001b[39mself\u001b[39;49m\u001b[39m.\u001b[39;49mtimer)\n\u001b[1;32m    157\u001b[0m \u001b[39mfinally\u001b[39;00m:\n\u001b[1;32m    158\u001b[0m     \u001b[39mif\u001b[39;00m gcold:\n",
      "File \u001b[0;32m<magic-timeit>:1\u001b[0m, in \u001b[0;36minner\u001b[0;34m(_it, _timer)\u001b[0m\n",
      "\u001b[1;32m/home/marjan/Documents/Exercise/sheet7/bsp4.ipynb Cell 3\u001b[0m in \u001b[0;36mcan_construct\u001b[0;34m(target, source)\u001b[0m\n\u001b[1;32m      <a href='vscode-notebook-cell:/home/marjan/Documents/Exercise/sheet7/bsp4.ipynb#W3sZmlsZQ%3D%3D?line=4'>5</a>\u001b[0m \u001b[39mfor\u001b[39;00m el \u001b[39min\u001b[39;00m target:\n\u001b[1;32m      <a href='vscode-notebook-cell:/home/marjan/Documents/Exercise/sheet7/bsp4.ipynb#W3sZmlsZQ%3D%3D?line=5'>6</a>\u001b[0m     \u001b[39mtry\u001b[39;00m:\n\u001b[0;32m----> <a href='vscode-notebook-cell:/home/marjan/Documents/Exercise/sheet7/bsp4.ipynb#W3sZmlsZQ%3D%3D?line=6'>7</a>\u001b[0m         i \u001b[39m=\u001b[39m source\u001b[39m.\u001b[39;49mindex(el)\n\u001b[1;32m      <a href='vscode-notebook-cell:/home/marjan/Documents/Exercise/sheet7/bsp4.ipynb#W3sZmlsZQ%3D%3D?line=7'>8</a>\u001b[0m         source[i] \u001b[39m=\u001b[39m \u001b[39mNone\u001b[39;00m\n\u001b[1;32m      <a href='vscode-notebook-cell:/home/marjan/Documents/Exercise/sheet7/bsp4.ipynb#W3sZmlsZQ%3D%3D?line=8'>9</a>\u001b[0m     \u001b[39mexcept\u001b[39;00m \u001b[39mValueError\u001b[39;00m:  \u001b[39m# the `index` method raises ValueError if item is absent\u001b[39;00m\n",
      "\u001b[0;31mKeyboardInterrupt\u001b[0m: "
     ]
    }
   ],
   "source": [
    "# Timing comparison\n",
    "import random\n",
    "import string\n",
    "\n",
    "lengths = [10, 100, 1000, 10000, 100000, int(1e6)] # print(int(1e6))\n",
    "for length in lengths:\n",
    "    # We'll simply use random data of given length\n",
    "    ransom_note = [random.choice(string.ascii_letters) for el in range(length)]\n",
    "    magazine = [random.choice(string.ascii_letters) for el in range(length)]\n",
    "    print(f\"{len(ransom_note)=}, {len(magazine)=}\")\n",
    "    %timeit can_construct(ransom_note, magazine) #%timeit: Time repeated execution of a single statement for more accuracy\n",
    "    %timeit can_construct2(ransom_note, magazine)\n"
   ]
  }
 ],
 "metadata": {
  "kernelspec": {
   "display_name": "Python 3.10.6 (conda)",
   "language": "python",
   "name": "python3"
  },
  "language_info": {
   "codemirror_mode": {
    "name": "ipython",
    "version": 3
   },
   "file_extension": ".py",
   "mimetype": "text/x-python",
   "name": "python",
   "nbconvert_exporter": "python",
   "pygments_lexer": "ipython3",
   "version": "3.10.6"
  },
  "orig_nbformat": 4,
  "vscode": {
   "interpreter": {
    "hash": "f139eb95dc7458f532b463c4b0877e2c71664b376e1cbbde639cfe15fd546385"
   }
  }
 },
 "nbformat": 4,
 "nbformat_minor": 2
}
