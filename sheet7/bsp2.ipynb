{
 "cells": [
  {
   "cell_type": "markdown",
   "metadata": {},
   "source": [
    "2  The importance of Zen\n",
    "\n",
    "A special module contains the \"Zen of Python\" (PEP-0020), a collection of software principles that influenced the design and philosophy of Python.\n",
    "\n",
    ">>> import this\n",
    "\n",
    "    After importing, the module is represented by a module object in the global namespace\n",
    "    You can view the names in the current namespace using dir(), locals() or – for the global namespace – globals() (Stackoverflow)\n",
    "    After import this, the function dir() should list the module object this among other objects\n",
    "    Printing an object provides a string representation of this object\n",
    "\n",
    "    Modify the module so that, upon module import (import this), the first sentence of the output is \"I control Python\". To modify the module, you need to locate the module file, open it and add some Python code (also see Stackoverflow, ROT13). Note that re-importing an already imported module usually doesn't do anything. However, you can use the Ipython %autoreload magic (Stackoverflow).\n",
    "##ROT13 (\"rotate by 13 places\", sometimes hyphenated ROT-13) is a simple letter substitution cipher that replaces a letter with the 13th letter after it in the alphabet. \n",
    "##ROT13 is a special case of the Caesar cipher which was developed in ancient Rome.\n",
    "\n",
    "#Because there are 26 letters (2×13) in the basic Latin alphabet, ROT13 is its own inverse; that is, to undo ROT13, the same algorithm is applied, #\n",
    "#so the same action can be used for encoding and decoding. The algorithm provides virtually no cryptographic security, and is often cited as a canonical example of weak encryptio\n",
    "    \n",
    "\n",
    "    The Python programming language is a set of rules and syntax for writing code. When you run python in the shell, you execute a program that implements these rules/syntax. Like all programs, this program must also be written in some programming language. There are multiple implementations of Python, the most popular being CPython (Stackoverflow). It is an open-source project hosted on GitHub. Inspect the code of the this module on GitHub. When was this file last updated (\"latest commit\"), and by whom?\n",
    "\n",
    "     Latest commit be19ed7 on Feb 9, 2007 \n"
   ]
  },
  {
   "cell_type": "code",
   "execution_count": 14,
   "metadata": {},
   "outputs": [
    {
     "name": "stdout",
     "output_type": "stream",
     "text": [
      "<module 'this' from '/home/marjan/anaconda3/lib/python3.9/this.py'>\n",
      "/home/marjan/anaconda3/lib/python3.9/this.py\n",
      "The Zen of Python, by Tim Peters\n",
      "\n",
      "Beautiful is better than ugly.\n",
      "Explicit is better than implicit.\n",
      "Simple is better than complex.\n",
      "Complex is better than complicated.\n",
      "Flat is better than nested.\n",
      "Sparse is better than dense.\n",
      "Readability counts.\n",
      "Special cases aren't special enough to break the rules.\n",
      "Although practicality beats purity.\n",
      "Errors should never pass silently.\n",
      "Unless explicitly silenced.\n",
      "In the face of ambiguity, refuse the temptation to guess.\n",
      "There should be one-- and preferably only one --obvious way to do it.\n",
      "Although that way may not be obvious at first unless you're Dutch.\n",
      "Now is better than never.\n",
      "Although never is often better than *right* now.\n",
      "If the implementation is hard to explain, it's a bad idea.\n",
      "If the implementation is easy to explain, it may be a good idea.\n",
      "Namespaces are one honking great idea -- let's do more of those!\n"
     ]
    },
    {
     "data": {
      "text/plain": [
       "<module 'this' from '/home/marjan/anaconda3/lib/python3.9/this.py'>"
      ]
     },
     "execution_count": 14,
     "metadata": {},
     "output_type": "execute_result"
    }
   ],
   "source": [
    "import this\n",
    "print (this)\n",
    "#view the names in the current namespace:\n",
    "dir()\n",
    "locals()\n",
    "#view the names in the global namespace:\n",
    "globals()\n",
    "#locals() == globals() #global scope, that is directly within the script\n",
    "print (this.__file__)\n"
   ]
  },
  {
   "cell_type": "code",
   "execution_count": 1,
   "metadata": {},
   "outputs": [
    {
     "name": "stdout",
     "output_type": "stream",
     "text": [
      "\n",
      "I controll python\n",
      "\n",
      "The Zen of Python, by Tim Peters\n",
      "\n",
      "Beautiful is better than ugly.\n",
      "Explicit is better than implicit.\n",
      "Simple is better than complex.\n",
      "Complex is better than complicated.\n",
      "Flat is better than nested.\n",
      "Sparse is better than dense.\n",
      "Readability counts.\n",
      "Special cases aren't special enough to break the rules.\n",
      "Although practicality beats purity.\n",
      "Errors should never pass silently.\n",
      "Unless explicitly silenced.\n",
      "In the face of ambiguity, refuse the temptation to guess.\n",
      "There should be one-- and preferably only one --obvious way to do it.\n",
      "Although that way may not be obvious at first unless you're Dutch.\n",
      "Now is better than never.\n",
      "Although never is often better than *right* now.\n",
      "If the implementation is hard to explain, it's a bad idea.\n",
      "If the implementation is easy to explain, it may be a good idea.\n",
      "Namespaces are one honking great idea -- let's do more of those!\n",
      "\n",
      "I controll python\n",
      "\n",
      "The Zen of Python, by Tim Peters\n",
      "\n",
      "Beautiful is better than ugly.\n",
      "Explicit is better than implicit.\n",
      "Simple is better than complex.\n",
      "Complex is better than complicated.\n",
      "Flat is better than nested.\n",
      "Sparse is better than dense.\n",
      "Readability counts.\n",
      "Special cases aren't special enough to break the rules.\n",
      "Although practicality beats purity.\n",
      "Errors should never pass silently.\n",
      "Unless explicitly silenced.\n",
      "In the face of ambiguity, refuse the temptation to guess.\n",
      "There should be one-- and preferably only one --obvious way to do it.\n",
      "Although that way may not be obvious at first unless you're Dutch.\n",
      "Now is better than never.\n",
      "Although never is often better than *right* now.\n",
      "If the implementation is hard to explain, it's a bad idea.\n",
      "If the implementation is easy to explain, it may be a good idea.\n",
      "Namespaces are one honking great idea -- let's do more of those!\n"
     ]
    },
    {
     "data": {
      "text/plain": [
       "<module 'this' from '/home/marjan/anaconda3/lib/python3.9/this.py'>"
      ]
     },
     "execution_count": 1,
     "metadata": {},
     "output_type": "execute_result"
    }
   ],
   "source": [
    "import this\n",
    "import codecs  # codecs.encode(obj, encoding='utf-8', errors='strict')\n",
    "\n",
    "#Encodes obj using the codec registered for encoding.\n",
    "\n",
    "with open(\"/home/marjan/anaconda3/lib/python3.9/this.py\") as file:\n",
    "    for line in file:\n",
    "        # Python string method rstrip() returns a copy of the string in which \n",
    "        # all chars have been stripped from the end of the string (default whitespace characters).\n",
    "        lines = [line.rstrip() for line in file]\n",
    "\n",
    "lines\n",
    "del lines[0]\n",
    "lines\n",
    "text = codecs.encode(\"I controll python\", \"rot_13\")\n",
    "text\n",
    "#copy text to this.py \n",
    "import imp\n",
    "imp.reload(this) #or %autoreload\n"
   ]
  },
  {
   "cell_type": "markdown",
   "metadata": {},
   "source": [
    "import this\n"
   ]
  }
 ],
 "metadata": {
  "kernelspec": {
   "display_name": "Python 3.9.12 ('base')",
   "language": "python",
   "name": "python3"
  },
  "language_info": {
   "codemirror_mode": {
    "name": "ipython",
    "version": 3
   },
   "file_extension": ".py",
   "mimetype": "text/x-python",
   "name": "python",
   "nbconvert_exporter": "python",
   "pygments_lexer": "ipython3",
   "version": "3.9.12"
  },
  "orig_nbformat": 4,
  "vscode": {
   "interpreter": {
    "hash": "06f9b7265563807b2590717547c5dd584f6a176ef8ec8d111874931c0eef475e"
   }
  }
 },
 "nbformat": 4,
 "nbformat_minor": 2
}
