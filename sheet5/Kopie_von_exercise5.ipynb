{
  "cells": [
    {
      "cell_type": "markdown",
      "metadata": {
        "id": "dxr-GjR0di56"
      },
      "source": [
        "# 1 Python keywords\n",
        "1. Which keywords don't you know yet?\n",
        "\n",
        "    async, await --> you can run a program asynchronously, the program can make a pause, before continuing\n",
        "    class --> you can create a class where you combine defining functions and parameters\n",
        "    del --> delete reference to an object\n",
        "    finally --> for try except blocks\n",
        "    from, import --> import modules or just functions of modules\n",
        "    is --> tests if two variables refer to the same object, unlike == which tests if two variables are just equal\n",
        "    lambda --> inline function\n",
        "    pass --> pass is a null statement in Python. Nothing happens when it is executed. It is used as a placeholder\n",
        "    with --> with statement is used to wrap the execution of a block of code within methods defined by the context manager\n",
        "    yield --> yield is used inside a function like a return statement. But yield returns a generator\n",
        "2. For the unknown keywords, check if they are related to a known concept (e.g. finally), or to a novel concept (e.g. class):\n",
        "\n",
        "    pass can be used for a class\n",
        "    \n"
      ]
    },
    {
      "cell_type": "markdown",
      "metadata": {
        "id": "aSuhQIGOdi58"
      },
      "source": [
        "# 2 Local and global variables in Python\n",
        "1. In the code below, why does function h lead to a NameError exception, while function j leads to an UnboundLocalError exception for the same line of code, print(y)?:\n",
        "\n",
        "    h leads to a nameerror exception, because y is looked up first in the local scope (not defined) and then in the global scope (not defined), function j leads to an UnboundLocalError: since y is defined later on in j, y is defined as a local variable, so print(y) looks up y in the local scope, where it is not yet defined but because y is defined later on, print(y) doesnt look at the global scope for y --> different situation\n",
        "2. Do other programming languages behave the same way?:\n",
        "\n",
        "    Some do, others dont, C++ and C doesn't but still variable shadowing is a bad idea in every language\n",
        "3. What is variable shadowing, and why is it a problem?:\n",
        "\n",
        "    Variable Shadowing is a problem, because you can run into bugs, because it could happen that you define a variable in a function 100 lines latter, and you wanted to access the global variable some lines of code earlier, this would not work, since python will only look at the local scope in this case (and there the variable is not yet defined)\n"
      ]
    },
    {
      "cell_type": "markdown",
      "metadata": {
        "id": "4AULKbHrdi59"
      },
      "source": [
        "# 3 Install Bio Python\n",
        "1. worked\n",
        "2. /home/mathiaskoch/anaconda3/lib/python3.9/site-packages/Bio/__init__.py\n",
        "3. /home/mathiaskoch/anaconda3/lib/python3.9/site-packages/Bio/Seq.py\n",
        "\n"
      ]
    },
    {
      "cell_type": "markdown",
      "metadata": {
        "id": "95RuCTuXdi59"
      },
      "source": [
        "# 4 Using enumerate: Sum of two numbers\n",
        "1. Given a list of numbers, iterate from the first number to the last number, and print the sum of the current number and previous number. Do it in two different ways, with and without using enumerate."
      ]
    },
    {
      "cell_type": "code",
      "execution_count": null,
      "metadata": {
        "id": "68aasTNtdi59",
        "outputId": "995ff1e6-976b-44fb-ebae-4c7a83e5305b",
        "colab": {
          "base_uri": "https://localhost:8080/"
        }
      },
      "outputs": [
        {
          "output_type": "stream",
          "name": "stdout",
          "text": [
            "1\n",
            "2\n",
            "3\n",
            "5\n",
            "8\n",
            "13\n",
            "21\n",
            "34\n",
            "55\n",
            "89\n",
            "144\n",
            "1\n",
            "2\n",
            "3\n",
            "5\n",
            "8\n",
            "13\n",
            "21\n",
            "34\n",
            "55\n",
            "89\n",
            "144\n"
          ]
        }
      ],
      "source": [
        "list1 = [1, 1, 2, 3, 5, 8, 13, 21, 34, 55, 89]\n",
        "#print(type(list1))   #CHECKS\n",
        "#print(list1) \n",
        "#print(list(enumerate(list1)))\n",
        "\n",
        "prev = 0\n",
        "for i, el in enumerate(list1): #with enumerate\n",
        "    print(el + prev)\n",
        "    prev = el\n",
        "\n",
        "prev = 0\n",
        "for el in list1: #without enumerate\n",
        "    print(el + prev)\n",
        "    prev = el\n"
      ]
    },
    {
      "cell_type": "markdown",
      "metadata": {
        "id": "NeSczMGtdi5_"
      },
      "source": [
        "# 5 Compare first and last item\n",
        "1. yes works with lists, tuples, strings"
      ]
    },
    {
      "cell_type": "code",
      "execution_count": null,
      "metadata": {
        "id": "4uU5kucqdi5_",
        "outputId": "8cec0846-55ae-488d-aa27-ede3c34e7a69",
        "colab": {
          "base_uri": "https://localhost:8080/",
          "height": 130
        }
      },
      "outputs": [
        {
          "output_type": "error",
          "ename": "SyntaxError",
          "evalue": "ignored",
          "traceback": [
            "\u001b[0;36m  File \u001b[0;32m\"<fstring>\"\u001b[0;36m, line \u001b[0;32m1\u001b[0m\n\u001b[0;31m    (my_list[0]=)\u001b[0m\n\u001b[0m               ^\u001b[0m\n\u001b[0;31mSyntaxError\u001b[0m\u001b[0;31m:\u001b[0m invalid syntax\n"
          ]
        }
      ],
      "source": [
        "my_list = [10, 20, 30, 40, 10]\n",
        "print(type(my_list), f\"{my_list[0]=}, {my_list[-1]=}\")\n",
        "print(\"First and last values are the same:\", my_list[0] == my_list[-1])\n",
        "\n",
        "my_list = (\"abc\", \"ccc\", \"ddd\", \"abc\")\n",
        "print(type(my_list), f\"{my_list[0]=}, {my_list[-1]=}\")\n",
        "print(\"First and last values are the same:\", my_list[0] == my_list[-1])\n",
        "\n",
        "my_list = (\"abcabccbacba\")\n",
        "print(type(my_list), f\"{my_list[0]=}, {my_list[-1]=}\")\n",
        "print(\"First and last values are the same:\", my_list[0] == my_list[-1])\n"
      ]
    },
    {
      "cell_type": "markdown",
      "metadata": {
        "id": "AtLhZX6cdi5_"
      },
      "source": [
        "# 6 List comprehensions\n",
        "1. Remove non-alphanumeric characters from the string 'se#%c&,r!_e?*@t^'\n",
        "2. Explain how the function validate_base_sequence below works:\n",
        "\n",
        "    iterates over every object in the argument of the function (which is a string, =ACCGAGATC), every object is checked if it is an object also included in valid_bases (depending on the flag), returns boolean if all bases in base_sequence are valid_bases\n",
        "3. A list comprehension is equivalent to a for loop. As an exercise, rewrite the two list comprehensions from 1. and 2. as for loops.\n",
        "    \n"
      ]
    },
    {
      "cell_type": "code",
      "execution_count": null,
      "metadata": {
        "id": "KKUfAHqOdi5_",
        "outputId": "d6300612-e0a0-45f0-d93b-95ccaec3ad26"
      },
      "outputs": [
        {
          "name": "stdout",
          "output_type": "stream",
          "text": [
            "secret\n"
          ]
        }
      ],
      "source": [
        "# 1\n",
        "old_string = \"se#%c&,r!_e?*@t^\"\n",
        "new_string = \"\"\n",
        "\n",
        "for obj in old_string:\n",
        "    if obj.isalnum():\n",
        "        new_string += obj\n",
        "print(new_string)\n"
      ]
    },
    {
      "cell_type": "code",
      "execution_count": null,
      "metadata": {
        "id": "Y9F6usbidi5_",
        "outputId": "c32bffc1-3c8e-426b-ae6b-fb720948d4b3"
      },
      "outputs": [
        {
          "data": {
            "text/plain": [
              "True"
            ]
          },
          "execution_count": 59,
          "metadata": {},
          "output_type": "execute_result"
        }
      ],
      "source": [
        "# 2\n",
        "def validate_base_sequence(base_sequence, RNAflag=False):\n",
        "    \"\"\"Checks if string is valid nucleotide sequence\"\"\"\n",
        "    valid_bases = 'UCAG' if RNAflag else 'TCAG'\n",
        "    return all([base in valid_bases for base in base_sequence.upper()])\n",
        "\n",
        "validate_base_sequence('ACCGAGATC')"
      ]
    },
    {
      "cell_type": "code",
      "execution_count": null,
      "metadata": {
        "id": "iNTp963pdi6A",
        "outputId": "3ac430ec-4ffe-44c7-f007-333231d74792",
        "colab": {
          "base_uri": "https://localhost:8080/"
        }
      },
      "outputs": [
        {
          "output_type": "execute_result",
          "data": {
            "text/plain": [
              "True"
            ]
          },
          "metadata": {},
          "execution_count": 1
        }
      ],
      "source": [
        "# 3\n",
        "def validate_base_sequence(base_sequence, RNAflag=False):\n",
        "    base_sequence.upper()\n",
        "    valid_bases = \"UCAG\" if RNAflag else \"TCAG\"\n",
        "\n",
        "    for base in base_sequence:\n",
        "        if base in valid_bases:\n",
        "            continue\n",
        "        else:\n",
        "            break\n",
        "    return base in valid_bases\n",
        "\n",
        "validate_base_sequence(\"ACCGAGATC\")"
      ]
    },
    {
      "cell_type": "markdown",
      "metadata": {
        "id": "9jUQhPp-di6A"
      },
      "source": [
        "# 7 Plane pilot vs. the palindrome\n",
        "1. see Script below; 198888 and 199999\n",
        "2. In the check_all function, replace the while loop by a for loop. Which variant do you prefer? see Script 2 below, i prefer the for loop"
      ]
    },
    {
      "cell_type": "code",
      "execution_count": null,
      "metadata": {
        "id": "dYc44A5edi6A",
        "outputId": "44ba7d39-bf34-4125-d041-67a8d00eb1cc",
        "colab": {
          "base_uri": "https://localhost:8080/"
        }
      },
      "outputs": [
        {
          "output_type": "stream",
          "name": "stdout",
          "text": [
            "Possible solutions for the quiz:\n",
            "198888\n",
            "199999\n"
          ]
        }
      ],
      "source": [
        "# Check Palindrom\n",
        "\n",
        "\n",
        "def is_palindrome(s, start, length):\n",
        "    \"\"\"Determines if substring of s starting at `start` with length `length` is a palindrome.\n",
        "    Args:\n",
        "        s - string or integer (will be converted to string)\n",
        "        start - start position of possible palindrome\n",
        "        length - length of possible palindrome\n",
        "    Returns:\n",
        "        boolean\n",
        "    \"\"\"\n",
        "    assert isinstance(s, str) or isinstance(s, int), f\"{s} must be string or integer\"\n",
        "    s = str(s)\n",
        "\n",
        "    if length == 4 or length == 5:   # same since the middle number in a string of 5 is not relevant for the palindrome\n",
        "        if s[start] == s[start + length - 1] and s[start + 1] == s[start + length - 2]:\n",
        "            return True\n",
        "        else:\n",
        "            return False\n",
        "\n",
        "    if length == 6:  # for this you need a extra line, sure there is another way to combine this with the one above, maybe a extra variable\n",
        "        if (\n",
        "            s[start] == s[start + length - 1]\n",
        "            and s[start + 1] == s[start + length - 2]\n",
        "            and s[start + 2] == s[start + length - 3]\n",
        "        ):\n",
        "            return True\n",
        "        else:\n",
        "            return False\n",
        "\n",
        "\n",
        "def check_number(i):\n",
        "    \"\"\"Determines if given integer meets puzzle conditions\n",
        "    Args:\n",
        "        i - integer to be checked\n",
        "    Returns:\n",
        "        boolean\n",
        "    \"\"\"\n",
        "    if (\n",
        "        is_palindrome(i, 2, 4)\n",
        "        and is_palindrome(i + 1, 1, 5)\n",
        "        and is_palindrome(i + 2, 1, 4)\n",
        "        and is_palindrome(i + 3, 0, 6)\n",
        "    ):\n",
        "        return True\n",
        "    else:\n",
        "        return False\n",
        "\n",
        "\n",
        "def check_all(start=100000, end=999999):\n",
        "    \"\"\"Prints all six-digit numbers that satisfy puzzle requirements\n",
        "    Args:\n",
        "        start (optional) - first number to check\n",
        "        end (optional) - last number to check\n",
        "    Returns: -\n",
        "    \"\"\"\n",
        "    num = start\n",
        "    while num <= end:\n",
        "        if check_number(num):\n",
        "            print(num)\n",
        "        num += 1\n",
        "\n",
        "\n",
        "print(\"Possible solutions for the quiz:\")\n",
        "check_all()"
      ]
    },
    {
      "cell_type": "code",
      "execution_count": null,
      "metadata": {
        "colab": {
          "base_uri": "https://localhost:8080/"
        },
        "id": "ca6UaJwLdi6B",
        "outputId": "aaf5a9cf-4c87-46a2-d10f-63a5d3726153"
      },
      "outputs": [
        {
          "output_type": "stream",
          "name": "stdout",
          "text": [
            "Possible solutions for the quiz:\n",
            "198888\n",
            "199999\n"
          ]
        }
      ],
      "source": [
        "# Check Palindrom with for loop\n",
        "\n",
        "\n",
        "def is_palindrome(s, start, length):\n",
        "    \"\"\"Determines if substring of s starting at `start` with length `length` is a palindrome.\n",
        "    Args:\n",
        "        s - string or integer (will be converted to string)\n",
        "        start - start position of possible palindrome\n",
        "        length - length of possible palindrome\n",
        "    Returns:\n",
        "        boolean\n",
        "    \"\"\"\n",
        "    assert isinstance(s, str) or isinstance(s, int), f\"{s} must be string or integer\"\n",
        "    s = str(s)\n",
        "\n",
        "    if length == 4 or length == 5:\n",
        "        if s[start] == s[start + length - 1] and s[start + 1] == s[start + length - 2]:\n",
        "            return True\n",
        "        else:\n",
        "            return False\n",
        "\n",
        "    if length == 6:\n",
        "        if (\n",
        "            s[start] == s[start + length - 1]\n",
        "            and s[start + 1] == s[start + length - 2]\n",
        "            and s[start + 2] == s[start + length - 3]\n",
        "        ):\n",
        "            return True\n",
        "        else:\n",
        "            return False\n",
        "\n",
        "\n",
        "def check_number(i):\n",
        "    \"\"\"Determines if given integer meets puzzle conditions\n",
        "    Args:\n",
        "        i - integer to be checked\n",
        "    Returns:\n",
        "        boolean\n",
        "    \"\"\"\n",
        "    if (\n",
        "        is_palindrome(i, , 4)\n",
        "        and is_palindrome(i + 1, 1, 5)\n",
        "        and is_palindrome(i + 2, 1, 4)\n",
        "        and is_palindrome(i + 3, 0, 6)\n",
        "    ):\n",
        "        return True\n",
        "    else:\n",
        "        return False\n",
        "\n",
        "\n",
        "def check_all(start=100000, end=999999):\n",
        "    \"\"\"Prints all six-digit numbers that satisfy puzzle requirements\n",
        "    Args:\n",
        "        start (optional) - first number to check\n",
        "        end (optional) - last number to check\n",
        "    Returns: -\n",
        "    \"\"\"\n",
        "\n",
        "    for num in range(start, end + 1):\n",
        "        if check_number(num):\n",
        "            print(num)\n",
        "\n",
        "\n",
        "print(\"Possible solutions for the quiz:\")\n",
        "check_all()\n"
      ]
    },
    {
      "cell_type": "markdown",
      "metadata": {
        "id": "eVTreEQrdi6B"
      },
      "source": [
        "# 8 Simulate DNA/RNA sequences using the random module\n",
        "1. see below\n",
        "2. see below\n",
        "3. python ~/Desktop/Scripts/random_codon_sequence.py\n",
        "\n",
        "added to script:\n",
        "rand_codon_seq_FASTA = f\">{random.randint(100000,200000)}\\n\"\n",
        "rand_codon_seq_FASTA += \"\".join(random_codon_sequence())\n",
        "print(rand_codon_seq_FASTA)"
      ]
    },
    {
      "cell_type": "code",
      "execution_count": null,
      "metadata": {
        "id": "f844O5B9di6B",
        "outputId": "99fb57e6-2dda-458b-f583-c55360734f09",
        "colab": {
          "base_uri": "https://localhost:8080/"
        }
      },
      "outputs": [
        {
          "output_type": "stream",
          "name": "stdout",
          "text": [
            "['GGT', 'CGG']\n",
            ">165172\n",
            "ATTCGC\n"
          ]
        }
      ],
      "source": [
        "import random\n",
        "\n",
        "def random_base(RNAflag=False):\n",
        "    \"\"\"Returns random base (DNA or RNA).\"\"\"\n",
        "    possible_bases = \"UCAG\" if RNAflag else \"TCAG\"\n",
        "    return possible_bases[random.randint(0, 3)]\n",
        "\n",
        "def random_codon(RNAflag=False):\n",
        "    \"\"\"Returns random codon (DNA or RNA).\"\"\"\n",
        "    mycodon = \"\"\n",
        "    for i in range(3):\n",
        "        mycodon += random_base(RNAflag=RNAflag)\n",
        "    return mycodon\n",
        "\n",
        "def random_codon_sequence(minlength=1, maxlength=3, RNAflag=False):\n",
        "    \"\"\"Returns random codon_sequence with random length between minlength and maxlength (DNA or RNA).\"\"\"\n",
        "    assert minlength <= maxlength, \"minlength must be smaller or equal to maxlength, default values are 1 and 3 respectively\"\n",
        "    codon_sequencelist = list()\n",
        "    for x in range(random.randint(minlength, maxlength)):\n",
        "        codon_sequencelist.append(random_codon(RNAflag=RNAflag))\n",
        "    return codon_sequencelist\n",
        "\n",
        "print(random_codon_sequence())   #for a normal list \n",
        "\n",
        "# task 3\n",
        "\n",
        "rand_codon_seq_FASTA = f\">{random.randint(100000,200000)}\\n\"   #create string with rand sequence id\n",
        "rand_codon_seq_FASTA += \"\".join(random_codon_sequence())      #append codon sequence to create FASTA format\n",
        "print(rand_codon_seq_FASTA)"
      ]
    }
  ],
  "metadata": {
    "kernelspec": {
      "display_name": "Python 3.9.12 ('base')",
      "language": "python",
      "name": "python3"
    },
    "language_info": {
      "codemirror_mode": {
        "name": "ipython",
        "version": 3
      },
      "file_extension": ".py",
      "mimetype": "text/x-python",
      "name": "python",
      "nbconvert_exporter": "python",
      "pygments_lexer": "ipython3",
      "version": "3.9.12"
    },
    "orig_nbformat": 4,
    "vscode": {
      "interpreter": {
        "hash": "1fb9f0d6f9f46cfa4866d1a9f519045580691fbf9a5b2e821a269041012f3d92"
      }
    },
    "colab": {
      "provenance": [],
      "collapsed_sections": []
    }
  },
  "nbformat": 4,
  "nbformat_minor": 0
}