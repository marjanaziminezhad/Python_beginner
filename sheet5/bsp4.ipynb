{
 "cells": [
  {
   "cell_type": "markdown",
   "metadata": {},
   "source": [
    "4  Using enumerate: Sum of two numbers\n",
    "\n",
    "Python allows multiple name bindings with iterable unpacking. Items of an iterable can be bound to names in one line. Example (if you don't know the f\"{a=}\" syntax, see Python tutorial):\n"
   ]
  },
  {
   "cell_type": "code",
   "execution_count": 1,
   "metadata": {},
   "outputs": [
    {
     "name": "stdout",
     "output_type": "stream",
     "text": [
      "a=3, b=7, c=2\n"
     ]
    }
   ],
   "source": [
    "lst = [3, 7, 2]\n",
    "a, b, c = lst  # iterable unpacking\n",
    "# always check if outcome corresponds to your expectations\n",
    "print(f\"{a=}, {b=}, {c=}\")\n"
   ]
  },
  {
   "cell_type": "markdown",
   "metadata": {},
   "source": [
    "The function enumerate enumerates the items of an iterable. (enumerate? → \"Returns an enumerate object, which yields pairs containing a count (0-based) and a value yielded by the iterable argument.\") Example:"
   ]
  },
  {
   "cell_type": "code",
   "execution_count": 71,
   "metadata": {},
   "outputs": [
    {
     "name": "stdout",
     "output_type": "stream",
     "text": [
      "(0, 100)\n",
      "(1, 101)\n",
      "(2, 102)\n",
      "(3, 103)\n",
      "(4, 104)\n",
      "(5, 105)\n",
      "(6, 106)\n",
      "(7, 107)\n",
      "(8, 108)\n",
      "(9, 109)\n",
      "[(0, 100), (1, 101), (2, 102), (3, 103), (4, 104), (5, 105), (6, 106), (7, 107), (8, 108), (9, 109)]\n"
     ]
    }
   ],
   "source": [
    "list(enumerate(range(100, 110)))\n",
    "\n",
    "for x in enumerate(range(100, 110)):\n",
    "    print(x)\n",
    "print(list(enumerate(range(100, 110))))\n"
   ]
  },
  {
   "cell_type": "markdown",
   "metadata": {},
   "source": [
    "The single items returned by enumerate, e.g. (0, 100), are tuples. Tuples are very similar to lists, but enclosed in parentheses (), while lists are enclosed in square brackets, []. Tuples are also iterables, and therefore support iterable unpacking:\n"
   ]
  },
  {
   "cell_type": "code",
   "execution_count": 3,
   "metadata": {},
   "outputs": [
    {
     "name": "stdout",
     "output_type": "stream",
     "text": [
      "a=0, b=100\n"
     ]
    }
   ],
   "source": [
    "a, b = (0, 100)\n",
    "print(f\"{a=}, {b=}\")\n"
   ]
  },
  {
   "cell_type": "markdown",
   "metadata": {},
   "source": [
    "Iterable unpacking allows to unpack the value pairs returned by enumerate directly in the for loop:"
   ]
  },
  {
   "cell_type": "code",
   "execution_count": 43,
   "metadata": {},
   "outputs": [
    {
     "name": "stdout",
     "output_type": "stream",
     "text": [
      "index 0, item 3\n",
      "index 1, item 7\n",
      "index 2, item 2\n"
     ]
    }
   ],
   "source": [
    "lst = [3, 7, 2]\n",
    "for i, el in enumerate(lst):\n",
    "    print(f\"index {i}, item {el}\")\n"
   ]
  },
  {
   "cell_type": "markdown",
   "metadata": {},
   "source": [
    " Given a list of numbers, iterate from the first number to the last number, and print the sum of the current number and previous number. Do it in two different ways, with and without using enumerate. Example:\n",
    ">>> sum_current_previous([1, 1, 2, 3, 5, 8, 13, 21, 34, 55, 89])\n",
    "1  # no previous number\n",
    "2\n",
    "3\n",
    "5\n",
    "8\n",
    "13\n",
    "21\n",
    "34\n",
    "55\n",
    "89\n",
    "144\n",
    ">>> sum_current_previous([10, 15, 50, 100])\n",
    "10\n",
    "25\n",
    "65\n",
    "150"
   ]
  },
  {
   "cell_type": "code",
   "execution_count": 12,
   "metadata": {},
   "outputs": [],
   "source": [
    "import math\n",
    "#my_list =(1,3,5,6,10)\n",
    "\n",
    "#for x in range (0,5):\n",
    "\n",
    " #   print(my_list[x]+ my_list[1+x])\n",
    "\n",
    "\n",
    "L = [1, 3, 5, 6, 10]\n",
    "for i, n in enumerate(L): #It starts at element 0!\n",
    "        #print(i,n)\n",
    "        list = (n + L[i +1])\n",
    "        print(list)\n",
    "        "
   ]
  }
 ],
 "metadata": {
  "kernelspec": {
   "display_name": "Python 3.10.6 (conda)",
   "language": "python",
   "name": "python3"
  },
  "language_info": {
   "codemirror_mode": {
    "name": "ipython",
    "version": 3
   },
   "file_extension": ".py",
   "mimetype": "text/x-python",
   "name": "python",
   "nbconvert_exporter": "python",
   "pygments_lexer": "ipython3",
   "version": "3.10.6"
  },
  "orig_nbformat": 4,
  "vscode": {
   "interpreter": {
    "hash": "f139eb95dc7458f532b463c4b0877e2c71664b376e1cbbde639cfe15fd546385"
   }
  }
 },
 "nbformat": 4,
 "nbformat_minor": 2
}
