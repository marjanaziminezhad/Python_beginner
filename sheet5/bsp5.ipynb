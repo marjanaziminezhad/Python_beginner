{
 "cells": [
  {
   "cell_type": "code",
   "execution_count": null,
   "metadata": {},
   "outputs": [],
   "source": []
  },
  {
   "cell_type": "markdown",
   "metadata": {},
   "source": [
    "5  Compare first and last list item\n",
    "\n",
    "What does the function below do?\n",
    "my_list = [10, 20, 30, 40, 10]\n",
    "print(\"First and last values are the same:\", is_first_and_last_same(my_list))\n",
    "\n",
    "    A function for this task is overkill, Python can do it in one short expression. Replace the function call to is_first_and_last_same in the print function by a logical expression. Does it work only with integers, or also with other types like strings or tuples?\n"
   ]
  },
  {
   "cell_type": "code",
   "execution_count": 2,
   "metadata": {},
   "outputs": [
    {
     "name": "stdout",
     "output_type": "stream",
     "text": [
      "First and last values are the same: True\n",
      "First and last values are the same: True\n",
      "First and last values are the same: False\n",
      "First and last values are the same: True\n"
     ]
    }
   ],
   "source": [
    "\n",
    "def is_first_and_last_same(lst):\n",
    "    first = lst[0]\n",
    "    last = lst[-1]\n",
    "    if first == last:\n",
    "        return True\n",
    "    else:\n",
    "        return False\n",
    "\n",
    "my_list = [10, 20, 30, 40, 10]\n",
    "my_string =\"MiriaM\"\n",
    "my_tuple= (1, 20, 30, 40, 10)\n",
    "print(\"First and last values are the same:\", is_first_and_last_same(my_list))\n",
    "print(\"First and last values are the same:\", my_list[0]== my_list[-1])\n",
    "print(\"First and last values are the same:\", my_tuple[0]== my_tuple[-1])\n",
    "print(\"First and last values are the same:\", my_string[0]== my_string[-1])\n",
    "\n",
    "type({1})"
   ]
  }
 ],
 "metadata": {
  "kernelspec": {
   "display_name": "Python 3.10.6 (conda)",
   "language": "python",
   "name": "python3"
  },
  "language_info": {
   "codemirror_mode": {
    "name": "ipython",
    "version": 3
   },
   "file_extension": ".py",
   "mimetype": "text/x-python",
   "name": "python",
   "nbconvert_exporter": "python",
   "pygments_lexer": "ipython3",
   "version": "3.10.6"
  },
  "orig_nbformat": 4,
  "vscode": {
   "interpreter": {
    "hash": "f139eb95dc7458f532b463c4b0877e2c71664b376e1cbbde639cfe15fd546385"
   }
  }
 },
 "nbformat": 4,
 "nbformat_minor": 2
}
