{
 "cells": [
  {
   "cell_type": "markdown",
   "metadata": {},
   "source": [
    "7  Plane pilot vs. the palindrome¶\n",
    "\n",
    "Some problems can be solved by a brute force approach, i.e. enumerating all possibilities and testing if one of them is the solution.\n",
    "\n",
    "One plane pilot got bored during a flight and started thinking about how far he had traveled. He noticed that the instrument displaying the traveled distance showed an interesting number. It consisted of six digits and had the following properties:\n",
    "\n",
    "    The last four digits were a palindrome\n",
    "    One kilometer later, the last five digits were a palindrome\n",
    "    One kilometer later, the middle 4 out of 6 digits were a palindrome\n",
    "    One kilometer later, all 6 digits were a palindrome\n",
    "\n",
    "    Can you identify this number? You can use the provided template.\n",
    "    In the check_all function, replace the while loop by a for loop. Which variant do you prefer?\n",
    "\n",
    "    The code uses f-strings for string formatting, available since Python 3.6 (Python tutorial, realpython.com)"
   ]
  },
  {
   "cell_type": "code",
   "execution_count": null,
   "metadata": {},
   "outputs": [],
   "source": [
    "\n",
    "\n",
    "def is_palindrome(s, start, length):\n",
    "    \"\"\"Determines if substring of s starting at `start` with length `length` is a palindrome.\n",
    "    Args:\n",
    "        s - string or integer (will be converted to string)\n",
    "        start - start position of possible palindrome\n",
    "        length - length of possible palindrome\n",
    "    Returns:\n",
    "        boolean\n",
    "    \"\"\"\n",
    "\n",
    "assert isinstance(s, str) or isinstance(\n",
    "        s, int), f\"{s} must be string or integer\"\n",
    "s = str(s)\n",
    "    # Your code here\n",
    "\n"
   ]
  },
  {
   "cell_type": "code",
   "execution_count": 30,
   "metadata": {},
   "outputs": [
    {
     "name": "stdout",
     "output_type": "stream",
     "text": [
      "Possible solutions for the quiz:\n",
      "110110\n",
      "221221\n",
      "332332\n",
      "443443\n",
      "554554\n",
      "665665\n",
      "776776\n",
      "887887\n",
      "998998\n",
      "999999\n"
     ]
    }
   ],
   "source": [
    "def check_number(n):\n",
    "    \"\"\"Determines if given integer meets puzzle conditions\n",
    "    Args:\n",
    "        i - integer to be checked\n",
    "    Returns:\n",
    "        boolean\n",
    "    \"\"\"\n",
    "    s = str(n)\n",
    "    i = int(s)\n",
    "    i_neu = i +1 #plus 1 KM\n",
    "    s_neu =str(i_neu)\n",
    "    if s[-4]== s[-1] and s[-3] == s[-2]:\n",
    "        if int(s_neu[-1])== int(s_neu[-5]):\n",
    "            if s_neu[-5]== s_neu[-2]:\n",
    "                if s_neu[-6] == s_neu[-1]:\n",
    "                    print(n)\n",
    "check_number(1234)\n",
    "\n",
    "\n",
    "def check_all(start=100000, end=999999):\n",
    "    \"\"\"Prints all six-digit numbers that satisfy puzzle requirements\n",
    "    Args:\n",
    "        start (optional) - first number to check\n",
    "        end (optional) - last number to check\n",
    "    Returns: -\n",
    "    \"\"\"\n",
    "    #num = start\n",
    "    #while num <= end:\n",
    "     #   if check_number(num):\n",
    "      #      print(num)\n",
    "       # num += 1\n",
    "    for num in range(100000,1000000,1):\n",
    "        if check_number(num)== num:\n",
    "            print(num)\n",
    "        num += 1\n",
    "\n",
    "print('Possible solutions for the quiz:')\n",
    "check_all()"
   ]
  }
 ],
 "metadata": {
  "kernelspec": {
   "display_name": "Python 3.10.6 (conda)",
   "language": "python",
   "name": "python3"
  },
  "language_info": {
   "codemirror_mode": {
    "name": "ipython",
    "version": 3
   },
   "file_extension": ".py",
   "mimetype": "text/x-python",
   "name": "python",
   "nbconvert_exporter": "python",
   "pygments_lexer": "ipython3",
   "version": "3.10.6"
  },
  "orig_nbformat": 4,
  "vscode": {
   "interpreter": {
    "hash": "f139eb95dc7458f532b463c4b0877e2c71664b376e1cbbde639cfe15fd546385"
   }
  }
 },
 "nbformat": 4,
 "nbformat_minor": 2
}
