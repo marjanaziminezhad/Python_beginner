{
 "cells": [
  {
   "cell_type": "markdown",
   "metadata": {},
   "source": [
    "3  Install Biopython\n",
    "\n",
    "We already saw the math module, which is part of the Python standard library (it is part of every Python installation). Many other modules/packages are installed \n",
    "separately. Biopython is a Python package with many modules that are useful for biological data analysis.\n",
    "\n",
    "    Biopython is a set of freely available tools for biological computation written in Python by an international team of developers. It is a distributed\n",
    "     collaborative effort to develop Python libraries and applications which address the needs of current and future work in bioinformatics (biopython.org)\n",
    "\n",
    "    Anaconda comes bundled with many packages, but Biopython may be not one of them. Install Biopython in the conda base environment via \n",
    "    $ conda install -c conda-forge biopython, according to the docs.\n",
    "    You can check if the installation worked by opening a Python interpreter (in the base environment), and importing the package: import Bio. If there was no error message, \n",
    "    the package was successfully imported. Double-check by printing the corresponding object: print(Bio). \n",
    "    \n",
    "    What is the file that actually gets imported?\n",
    "#  <module 'Bio' from '/home/marjan/Documents/Exercise/.conda/lib/python3.10/site-packages/Bio/__init__.py'>\n",
    "    \n",
    "    Import the Seq module from the Biopython package: import Bio.Seq. Print the default object representation: print(Bio.Seq). What is the full path to the module?\n",
    "\n",
    "# '/home/marjan/Documents/Exercise/.conda/lib/python3.10/site-packages/Bio/Seq.py'>\n"
   ]
  }
 ],
 "metadata": {
  "kernelspec": {
   "display_name": "Python 3.10.6 (conda)",
   "language": "python",
   "name": "python3"
  },
  "language_info": {
   "codemirror_mode": {
    "name": "ipython",
    "version": 3
   },
   "file_extension": ".py",
   "mimetype": "text/x-python",
   "name": "python",
   "nbconvert_exporter": "python",
   "pygments_lexer": "ipython3",
   "version": "3.10.6"
  },
  "orig_nbformat": 4,
  "vscode": {
   "interpreter": {
    "hash": "f139eb95dc7458f532b463c4b0877e2c71664b376e1cbbde639cfe15fd546385"
   }
  }
 },
 "nbformat": 4,
 "nbformat_minor": 2
}
