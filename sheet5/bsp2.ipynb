{
 "cells": [
  {
   "cell_type": "markdown",
   "metadata": {},
   "source": [
    "2  Local and global variables in Python\n",
    "\n",
    "Watch the video \"Local and Global Variable Lookup Weirdness in Python\" by mCoding, 2021 (YouTube) and answer the following questions:\n",
    "\n",
    "    In the code below, why does function h lead to a NameError exception, while function j leads to an UnboundLocalError exception for the same line of code, print(y)?\n",
    "    Do other programming languages behave the same way?\n",
    "# In Python, the NameError occurs when you try to use a variable, function, or module that doesn't exist or wasn't used in a valid way.(y does not exist) local variable referenced before assignment is raised when you try to use a variable before it has been assigned in the local context.(like in function j()) Python doesn't have variable declarations , so it has to figure out the scope of variables itself.\n",
    "    What is variable shadowing, and why is it a problem?\n",
    "# Variable shadowing occurs when a variable defined in the inner scope has the same name as a variable in the outer scope\n",
    "\n",
    "The code has the line if __name__ == \"__main__\": main(). It obviously calls the main() function, if the variable __name__ has the value \"__main__\". However, we didn't set this variable, so where does it come from? Python objects have a number of special attributes. They are also called dunder attributes, because they start and end with two underscores (dunder = \"double-under\"). In this case, we are looking at the special attribute __name__ of the current module (the currently executed file or the interactive Python session). If you want, you can simply print it in the interpreter, to see its value. The Python interpreter first automatically sets a few special variables like __name__, and then executes the code in the file. Why is this useful? Python files can be executed directly, by calling the file as a script ($ python /path/to/hello_world.py), or they can be imported by other Python files (import hello_world). The __name__ attribute allows to distinguish between these two situations. We will see examples later. In case the file is run directly (as a script), the value of __name__ is set to \"__main__\". In the interactive interpreter, the value of __name__ is also \"__main__\". Therefore, in the video, the if condition will always be true, and the main() function will be called. (If you want, you can ignore this line for now, and just call main() directly, without the if conditional.)\n"
   ]
  },
  {
   "cell_type": "code",
   "execution_count": 5,
   "metadata": {},
   "outputs": [
    {
     "ename": "IndentationError",
     "evalue": "expected an indented block after function definition on line 10 (756144511.py, line 14)",
     "output_type": "error",
     "traceback": [
      "\u001b[0;36m  Input \u001b[0;32mIn [5]\u001b[0;36m\u001b[0m\n\u001b[0;31m    if __name__ == '__main__':\u001b[0m\n\u001b[0m    ^\u001b[0m\n\u001b[0;31mIndentationError\u001b[0m\u001b[0;31m:\u001b[0m expected an indented block after function definition on line 10\n"
     ]
    }
   ],
   "source": [
    "\n",
    "y = 10\n",
    "def h():\n",
    "    print(y)\n",
    "    \n",
    "def j():\n",
    "    print(y)\n",
    "    #y = 1\n",
    "    \n",
    "def main():\n",
    "    #h()\n",
    "    #j()\n",
    "    \n",
    "if __name__ == '__main__':\n",
    "    main()\n"
   ]
  }
 ],
 "metadata": {
  "kernelspec": {
   "display_name": "Python 3.10.6 (conda)",
   "language": "python",
   "name": "python3"
  },
  "language_info": {
   "codemirror_mode": {
    "name": "ipython",
    "version": 3
   },
   "file_extension": ".py",
   "mimetype": "text/x-python",
   "name": "python",
   "nbconvert_exporter": "python",
   "pygments_lexer": "ipython3",
   "version": "3.10.6"
  },
  "orig_nbformat": 4,
  "vscode": {
   "interpreter": {
    "hash": "f139eb95dc7458f532b463c4b0877e2c71664b376e1cbbde639cfe15fd546385"
   }
  }
 },
 "nbformat": 4,
 "nbformat_minor": 2
}
