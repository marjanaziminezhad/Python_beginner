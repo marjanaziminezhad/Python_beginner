{
 "cells": [
  {
   "cell_type": "code",
   "execution_count": 3,
   "metadata": {},
   "outputs": [
    {
     "ename": "SyntaxError",
     "evalue": "invalid syntax (3068207383.py, line 1)",
     "output_type": "error",
     "traceback": [
      "\u001b[0;36m  Input \u001b[0;32mIn [3]\u001b[0;36m\u001b[0m\n\u001b[0;31m    6  List comprehensions\u001b[0m\n\u001b[0m       ^\u001b[0m\n\u001b[0;31mSyntaxError\u001b[0m\u001b[0;31m:\u001b[0m invalid syntax\n"
     ]
    }
   ],
   "source": [
    "6  List comprehensions\n",
    "\n",
    "Remove non-alphanumeric characters from the string 'se#%c&,r!_e?*@t^'\n",
    "import re\n",
    "\n",
    "re.sub(r'[#!\"§$%&/()=?,_@*^]', '','se#%c&,r!_e?*@t^')\n",
    "re.sub(r'\\W+', '', 'se#%c&,r!_e?*@t^')\n",
    "\n",
    "Explain how the function validate_base_sequence below works\n",
    "A list comprehension is equivalent to a for loop. As an exercise, rewrite the two list comprehensions from 1. and 2. as for loops.\n",
    "\n",
    "\n",
    "def validate_base_sequence(base_sequence, RNAflag=False):\n",
    "    \"\"\"Checks if string is valid nucleotide sequence\"\"\"\n",
    "    valid_bases = 'UCAG' if RNAflag else 'TCAG'\n",
    "    return all([base in valid_bases for base in base_sequence.upper()])\n",
    "\n",
    "\n",
    "validate_base_sequence('ACCGAGATC')\n"
   ]
  },
  {
   "cell_type": "code",
   "execution_count": 7,
   "metadata": {},
   "outputs": [
    {
     "data": {
      "text/plain": [
       "'secret'"
      ]
     },
     "execution_count": 7,
     "metadata": {},
     "output_type": "execute_result"
    }
   ],
   "source": [
    "import re\n",
    "re.sub(r'[#!\"§$%&/()=?,_@*^]', '', 'se#%c&,r!_e?*@t^')\n",
    "\n",
    "#re.sub(r'\\W+', '', 'se#%c&,r!_e?*@t^')\n"
   ]
  }
 ],
 "metadata": {
  "kernelspec": {
   "display_name": "Python 3.10.6 (conda)",
   "language": "python",
   "name": "python3"
  },
  "language_info": {
   "codemirror_mode": {
    "name": "ipython",
    "version": 3
   },
   "file_extension": ".py",
   "mimetype": "text/x-python",
   "name": "python",
   "nbconvert_exporter": "python",
   "pygments_lexer": "ipython3",
   "version": "3.10.6"
  },
  "orig_nbformat": 4,
  "vscode": {
   "interpreter": {
    "hash": "f139eb95dc7458f532b463c4b0877e2c71664b376e1cbbde639cfe15fd546385"
   }
  }
 },
 "nbformat": 4,
 "nbformat_minor": 2
}
