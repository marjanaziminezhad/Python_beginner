{
 "cells": [
  {
   "cell_type": "markdown",
   "metadata": {},
   "source": [
    "8  Simulate DNA/RNA sequences using the random module\n",
    "\n",
    "Random data is often useful, e.g. for test cases or simulations. Usage example:\n",
    "\n",
    "import random\n",
    "\n",
    "random.randint?  # get help\n",
    "random.randint(1,4)  # generate random numbers between 1 and 4\n",
    "\n",
    "The code below defines two functions that can be used to generate random DNA/RNA bases, and random codons:\n",
    "\n",
    "\n",
    "    Write a function random_codon_sequence that generates a sequence of random codons.\n",
    "        It should accept three optional arguments, which determine the length of the returned codon sequence (minlength and maxlength) and the sequence type, DNA or RNA (RNAflag)\n",
    "        It should return a list with random codons. The list should have a random length between minlength and maxlength.\n",
    "        Default values for minlength and maxlength should be set so that the returned list has at least 1 item and at most 3 items. The default sequence type is DNA.\n",
    "    What happens if the function is called like this: random_codon_sequence(4)? What will be the values of the function parameters in this case? Use print to inspect their values within the function. Add an assertion to check that the function arguments are correct, and abort the program with an informative error message otherwise.\n",
    "    Save the code as a Python script and execute it from the command line. It should output the sequences in FASTA format. For this output, you will need to create a string from the list (hint). You can use integers as sequence identifiers.\n",
    "\n",
    "Example:\n",
    "\n",
    ">>> random_codon_sequence()\n",
    "['GCT']\n",
    ">>> random_codon_sequence()\n",
    "['CCG','TAC','CCA']\n",
    ">>> random_codon_sequence(2,2)\n",
    "['CGT','ATA']\n",
    "\n",
    "From the command line:\n",
    "\n",
    "$ ./random_seq.py\n",
    ">1\n",
    "CGTATATTG\n",
    ">2\n",
    "GGTATC\n",
    ">3\n",
    "CCCATCGAGTTC\n",
    "\n"
   ]
  },
  {
   "cell_type": "code",
   "execution_count": 1,
   "metadata": {},
   "outputs": [
    {
     "name": "stdout",
     "output_type": "stream",
     "text": [
      "A\n",
      "CGC\n"
     ]
    }
   ],
   "source": [
    "import random\n",
    "\n",
    "\n",
    "def random_base(RNAflag=False):\n",
    "    \"\"\"Returns random base (DNA or RNA).\"\"\"\n",
    "    possible_bases = \"UCAG\" if RNAflag else \"TCAG\"\n",
    "    return possible_bases[random.randint(0, 3)]\n",
    "\n",
    "\n",
    "def random_codon(RNAflag=False):\n",
    "    \"\"\"Returns random codon (DNA or RNA).\"\"\"\n",
    "    mycodon = \"\"\n",
    "    for i in range(3):\n",
    "        mycodon += random_base(RNAflag=RNAflag)\n",
    "    return mycodon\n",
    "\n",
    "\n",
    "print(random_base())\n",
    "print(random_codon())\n"
   ]
  },
  {
   "cell_type": "code",
   "execution_count": 126,
   "metadata": {},
   "outputs": [
    {
     "ename": "SyntaxError",
     "evalue": "invalid syntax (2932825428.py, line 2)",
     "output_type": "error",
     "traceback": [
      "\u001b[0;36m  Input \u001b[0;32mIn [126]\u001b[0;36m\u001b[0m\n\u001b[0;31m    import assert\u001b[0m\n\u001b[0m           ^\u001b[0m\n\u001b[0;31mSyntaxError\u001b[0m\u001b[0;31m:\u001b[0m invalid syntax\n"
     ]
    }
   ],
   "source": [
    "import random\n",
    "\n",
    "\n",
    "def random_base(RNAflag=False):\n",
    "    \"\"\"Returns random base (DNA or RNA).\"\"\"\n",
    "    possible_bases = \"UCAG\" if RNAflag else \"TCAG\"\n",
    "    return possible_bases[random.randint(0, 3)]\n",
    "\n",
    "\n",
    "def random_codon(RNAflag=False):\n",
    "    \"\"\"Returns random codon (DNA or RNA).\"\"\"\n",
    "    mycodon = \"\"\n",
    "    for i in range(3):\n",
    "        mycodon += random_base(RNAflag=RNAflag)\n",
    "    return mycodon\n",
    "\n",
    "\n",
    "def random_codon_seq(minlength, maxlength, RNAFlag=False):\n",
    "    \"\"\"Returns random codon_sequence with random length between minlength and maxlength (DNA or RNA).\"\"\"\n",
    "    assert minlength <= maxlength, 'max is smaller than min'\n",
    "    assert maxlength == None, 'please insert max'\n",
    "    assert minlength is not None, 'please insert min'\n",
    "    try:\n",
    "        random_codon_seq(minlength)\n",
    "    except:\n",
    "        print('please insert both positional arguments')\n",
    "    my_random_codon = str()\n",
    "\n",
    "    for i in range(random.randint(minlength, maxlength)):\n",
    "\n",
    "        my_random_codon += random_codon(RNAflag=False)\n",
    "\n",
    "        print(my_random_codon[0:len(my_random_codon):3])\n",
    "\n",
    "    return my_random_codon\n",
    "\n"
   ]
  }
 ],
 "metadata": {
  "kernelspec": {
   "display_name": "Python 3.10.6 (conda)",
   "language": "python",
   "name": "python3"
  },
  "language_info": {
   "codemirror_mode": {
    "name": "ipython",
    "version": 3
   },
   "file_extension": ".py",
   "mimetype": "text/x-python",
   "name": "python",
   "nbconvert_exporter": "python",
   "pygments_lexer": "ipython3",
   "version": "3.10.6"
  },
  "orig_nbformat": 4,
  "vscode": {
   "interpreter": {
    "hash": "f139eb95dc7458f532b463c4b0877e2c71664b376e1cbbde639cfe15fd546385"
   }
  }
 },
 "nbformat": 4,
 "nbformat_minor": 2
}
